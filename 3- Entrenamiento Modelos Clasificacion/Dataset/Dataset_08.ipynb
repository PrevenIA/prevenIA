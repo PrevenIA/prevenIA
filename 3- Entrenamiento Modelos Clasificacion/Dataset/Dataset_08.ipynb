{
 "cells": [
  {
   "cell_type": "code",
   "execution_count": 1,
   "id": "06578e25-903e-4d9f-906a-d79257668091",
   "metadata": {},
   "outputs": [],
   "source": [
    "from googletrans import Translator\n",
    "import pandas as pd\n",
    "from tqdm import tqdm\n",
    "import numpy as np\n",
    "from tqdm.contrib.concurrent import process_map"
   ]
  },
  {
   "cell_type": "code",
   "execution_count": 2,
   "id": "ad9d81cc-83d0-4587-83b0-792bce9b8908",
   "metadata": {},
   "outputs": [],
   "source": [
    "df = pd.read_csv('Datasets/08_twitter-suicidal_data_10000.csv')"
   ]
  },
  {
   "cell_type": "code",
   "execution_count": 3,
   "id": "35c7f876-f3b6-46ef-932b-dba821e4dc1c",
   "metadata": {},
   "outputs": [
    {
     "data": {
      "text/html": [
       "<div>\n",
       "<style scoped>\n",
       "    .dataframe tbody tr th:only-of-type {\n",
       "        vertical-align: middle;\n",
       "    }\n",
       "\n",
       "    .dataframe tbody tr th {\n",
       "        vertical-align: top;\n",
       "    }\n",
       "\n",
       "    .dataframe thead th {\n",
       "        text-align: right;\n",
       "    }\n",
       "</style>\n",
       "<table border=\"1\" class=\"dataframe\">\n",
       "  <thead>\n",
       "    <tr style=\"text-align: right;\">\n",
       "      <th></th>\n",
       "      <th>tweet</th>\n",
       "      <th>intention</th>\n",
       "    </tr>\n",
       "  </thead>\n",
       "  <tbody>\n",
       "    <tr>\n",
       "      <th>0</th>\n",
       "      <td>my life is meaningless i just want to end my l...</td>\n",
       "      <td>1</td>\n",
       "    </tr>\n",
       "    <tr>\n",
       "      <th>1</th>\n",
       "      <td>muttering i wanna die to myself daily for a fe...</td>\n",
       "      <td>1</td>\n",
       "    </tr>\n",
       "    <tr>\n",
       "      <th>2</th>\n",
       "      <td>work slave i really feel like my only purpose ...</td>\n",
       "      <td>1</td>\n",
       "    </tr>\n",
       "    <tr>\n",
       "      <th>3</th>\n",
       "      <td>i did something on the 2 of october i overdose...</td>\n",
       "      <td>1</td>\n",
       "    </tr>\n",
       "    <tr>\n",
       "      <th>4</th>\n",
       "      <td>i feel like no one cares i just want to die ma...</td>\n",
       "      <td>1</td>\n",
       "    </tr>\n",
       "    <tr>\n",
       "      <th>...</th>\n",
       "      <td>...</td>\n",
       "      <td>...</td>\n",
       "    </tr>\n",
       "    <tr>\n",
       "      <th>9114</th>\n",
       "      <td>have you ever laid on your bed at night and cr...</td>\n",
       "      <td>1</td>\n",
       "    </tr>\n",
       "    <tr>\n",
       "      <th>9115</th>\n",
       "      <td>the fault the blame the pain s still there i m...</td>\n",
       "      <td>1</td>\n",
       "    </tr>\n",
       "    <tr>\n",
       "      <th>9116</th>\n",
       "      <td>stop asking me to trust you when i m still cou...</td>\n",
       "      <td>1</td>\n",
       "    </tr>\n",
       "    <tr>\n",
       "      <th>9117</th>\n",
       "      <td>i never know how to handle sadness crying make...</td>\n",
       "      <td>1</td>\n",
       "    </tr>\n",
       "    <tr>\n",
       "      <th>9118</th>\n",
       "      <td>when cancer takes a life we blame cancer depre...</td>\n",
       "      <td>1</td>\n",
       "    </tr>\n",
       "  </tbody>\n",
       "</table>\n",
       "<p>9119 rows × 2 columns</p>\n",
       "</div>"
      ],
      "text/plain": [
       "                                                  tweet  intention\n",
       "0     my life is meaningless i just want to end my l...          1\n",
       "1     muttering i wanna die to myself daily for a fe...          1\n",
       "2     work slave i really feel like my only purpose ...          1\n",
       "3     i did something on the 2 of october i overdose...          1\n",
       "4     i feel like no one cares i just want to die ma...          1\n",
       "...                                                 ...        ...\n",
       "9114  have you ever laid on your bed at night and cr...          1\n",
       "9115  the fault the blame the pain s still there i m...          1\n",
       "9116  stop asking me to trust you when i m still cou...          1\n",
       "9117  i never know how to handle sadness crying make...          1\n",
       "9118  when cancer takes a life we blame cancer depre...          1\n",
       "\n",
       "[9119 rows x 2 columns]"
      ]
     },
     "execution_count": 3,
     "metadata": {},
     "output_type": "execute_result"
    }
   ],
   "source": [
    "df"
   ]
  },
  {
   "cell_type": "code",
   "execution_count": 4,
   "id": "5de3a206-7a6b-4841-95bd-866feda6cceb",
   "metadata": {},
   "outputs": [],
   "source": [
    "df.rename(columns={\"tweet\":\"Text\",'intention':'Label'},inplace=True)"
   ]
  },
  {
   "cell_type": "code",
   "execution_count": 5,
   "id": "f5ba7b37-2625-48ff-9b1f-ba42afd3f58f",
   "metadata": {},
   "outputs": [
    {
     "data": {
      "text/html": [
       "<div>\n",
       "<style scoped>\n",
       "    .dataframe tbody tr th:only-of-type {\n",
       "        vertical-align: middle;\n",
       "    }\n",
       "\n",
       "    .dataframe tbody tr th {\n",
       "        vertical-align: top;\n",
       "    }\n",
       "\n",
       "    .dataframe thead th {\n",
       "        text-align: right;\n",
       "    }\n",
       "</style>\n",
       "<table border=\"1\" class=\"dataframe\">\n",
       "  <thead>\n",
       "    <tr style=\"text-align: right;\">\n",
       "      <th></th>\n",
       "      <th>Text</th>\n",
       "      <th>Label</th>\n",
       "    </tr>\n",
       "  </thead>\n",
       "  <tbody>\n",
       "    <tr>\n",
       "      <th>0</th>\n",
       "      <td>my life is meaningless i just want to end my l...</td>\n",
       "      <td>1</td>\n",
       "    </tr>\n",
       "    <tr>\n",
       "      <th>1</th>\n",
       "      <td>muttering i wanna die to myself daily for a fe...</td>\n",
       "      <td>1</td>\n",
       "    </tr>\n",
       "    <tr>\n",
       "      <th>2</th>\n",
       "      <td>work slave i really feel like my only purpose ...</td>\n",
       "      <td>1</td>\n",
       "    </tr>\n",
       "    <tr>\n",
       "      <th>3</th>\n",
       "      <td>i did something on the 2 of october i overdose...</td>\n",
       "      <td>1</td>\n",
       "    </tr>\n",
       "    <tr>\n",
       "      <th>4</th>\n",
       "      <td>i feel like no one cares i just want to die ma...</td>\n",
       "      <td>1</td>\n",
       "    </tr>\n",
       "    <tr>\n",
       "      <th>...</th>\n",
       "      <td>...</td>\n",
       "      <td>...</td>\n",
       "    </tr>\n",
       "    <tr>\n",
       "      <th>9114</th>\n",
       "      <td>have you ever laid on your bed at night and cr...</td>\n",
       "      <td>1</td>\n",
       "    </tr>\n",
       "    <tr>\n",
       "      <th>9115</th>\n",
       "      <td>the fault the blame the pain s still there i m...</td>\n",
       "      <td>1</td>\n",
       "    </tr>\n",
       "    <tr>\n",
       "      <th>9116</th>\n",
       "      <td>stop asking me to trust you when i m still cou...</td>\n",
       "      <td>1</td>\n",
       "    </tr>\n",
       "    <tr>\n",
       "      <th>9117</th>\n",
       "      <td>i never know how to handle sadness crying make...</td>\n",
       "      <td>1</td>\n",
       "    </tr>\n",
       "    <tr>\n",
       "      <th>9118</th>\n",
       "      <td>when cancer takes a life we blame cancer depre...</td>\n",
       "      <td>1</td>\n",
       "    </tr>\n",
       "  </tbody>\n",
       "</table>\n",
       "<p>9119 rows × 2 columns</p>\n",
       "</div>"
      ],
      "text/plain": [
       "                                                   Text  Label\n",
       "0     my life is meaningless i just want to end my l...      1\n",
       "1     muttering i wanna die to myself daily for a fe...      1\n",
       "2     work slave i really feel like my only purpose ...      1\n",
       "3     i did something on the 2 of october i overdose...      1\n",
       "4     i feel like no one cares i just want to die ma...      1\n",
       "...                                                 ...    ...\n",
       "9114  have you ever laid on your bed at night and cr...      1\n",
       "9115  the fault the blame the pain s still there i m...      1\n",
       "9116  stop asking me to trust you when i m still cou...      1\n",
       "9117  i never know how to handle sadness crying make...      1\n",
       "9118  when cancer takes a life we blame cancer depre...      1\n",
       "\n",
       "[9119 rows x 2 columns]"
      ]
     },
     "execution_count": 5,
     "metadata": {},
     "output_type": "execute_result"
    }
   ],
   "source": [
    "df"
   ]
  },
  {
   "cell_type": "code",
   "execution_count": 6,
   "id": "2bb67392-6e63-4d19-a743-db24ded4ade7",
   "metadata": {},
   "outputs": [],
   "source": [
    "df.drop_duplicates(subset=['Text'],keep=False,inplace=True)"
   ]
  },
  {
   "cell_type": "code",
   "execution_count": 7,
   "id": "2c92d2f8-259a-49d9-b815-c9ab2ea35ea5",
   "metadata": {},
   "outputs": [
    {
     "data": {
      "text/html": [
       "<div>\n",
       "<style scoped>\n",
       "    .dataframe tbody tr th:only-of-type {\n",
       "        vertical-align: middle;\n",
       "    }\n",
       "\n",
       "    .dataframe tbody tr th {\n",
       "        vertical-align: top;\n",
       "    }\n",
       "\n",
       "    .dataframe thead th {\n",
       "        text-align: right;\n",
       "    }\n",
       "</style>\n",
       "<table border=\"1\" class=\"dataframe\">\n",
       "  <thead>\n",
       "    <tr style=\"text-align: right;\">\n",
       "      <th></th>\n",
       "      <th>Text</th>\n",
       "      <th>Label</th>\n",
       "    </tr>\n",
       "  </thead>\n",
       "  <tbody>\n",
       "    <tr>\n",
       "      <th>0</th>\n",
       "      <td>my life is meaningless i just want to end my l...</td>\n",
       "      <td>1</td>\n",
       "    </tr>\n",
       "    <tr>\n",
       "      <th>1</th>\n",
       "      <td>muttering i wanna die to myself daily for a fe...</td>\n",
       "      <td>1</td>\n",
       "    </tr>\n",
       "    <tr>\n",
       "      <th>2</th>\n",
       "      <td>work slave i really feel like my only purpose ...</td>\n",
       "      <td>1</td>\n",
       "    </tr>\n",
       "    <tr>\n",
       "      <th>3</th>\n",
       "      <td>i did something on the 2 of october i overdose...</td>\n",
       "      <td>1</td>\n",
       "    </tr>\n",
       "    <tr>\n",
       "      <th>4</th>\n",
       "      <td>i feel like no one cares i just want to die ma...</td>\n",
       "      <td>1</td>\n",
       "    </tr>\n",
       "    <tr>\n",
       "      <th>...</th>\n",
       "      <td>...</td>\n",
       "      <td>...</td>\n",
       "    </tr>\n",
       "    <tr>\n",
       "      <th>9114</th>\n",
       "      <td>have you ever laid on your bed at night and cr...</td>\n",
       "      <td>1</td>\n",
       "    </tr>\n",
       "    <tr>\n",
       "      <th>9115</th>\n",
       "      <td>the fault the blame the pain s still there i m...</td>\n",
       "      <td>1</td>\n",
       "    </tr>\n",
       "    <tr>\n",
       "      <th>9116</th>\n",
       "      <td>stop asking me to trust you when i m still cou...</td>\n",
       "      <td>1</td>\n",
       "    </tr>\n",
       "    <tr>\n",
       "      <th>9117</th>\n",
       "      <td>i never know how to handle sadness crying make...</td>\n",
       "      <td>1</td>\n",
       "    </tr>\n",
       "    <tr>\n",
       "      <th>9118</th>\n",
       "      <td>when cancer takes a life we blame cancer depre...</td>\n",
       "      <td>1</td>\n",
       "    </tr>\n",
       "  </tbody>\n",
       "</table>\n",
       "<p>8744 rows × 2 columns</p>\n",
       "</div>"
      ],
      "text/plain": [
       "                                                   Text  Label\n",
       "0     my life is meaningless i just want to end my l...      1\n",
       "1     muttering i wanna die to myself daily for a fe...      1\n",
       "2     work slave i really feel like my only purpose ...      1\n",
       "3     i did something on the 2 of october i overdose...      1\n",
       "4     i feel like no one cares i just want to die ma...      1\n",
       "...                                                 ...    ...\n",
       "9114  have you ever laid on your bed at night and cr...      1\n",
       "9115  the fault the blame the pain s still there i m...      1\n",
       "9116  stop asking me to trust you when i m still cou...      1\n",
       "9117  i never know how to handle sadness crying make...      1\n",
       "9118  when cancer takes a life we blame cancer depre...      1\n",
       "\n",
       "[8744 rows x 2 columns]"
      ]
     },
     "execution_count": 7,
     "metadata": {},
     "output_type": "execute_result"
    }
   ],
   "source": [
    "df"
   ]
  },
  {
   "cell_type": "code",
   "execution_count": 10,
   "id": "46ac7539-c81a-4984-a2d5-a6b6ee618fb4",
   "metadata": {},
   "outputs": [],
   "source": [
    "translator = Translator()"
   ]
  },
  {
   "cell_type": "code",
   "execution_count": 11,
   "id": "9dfc7b57-b1e9-46c0-8abe-78303329a55a",
   "metadata": {},
   "outputs": [],
   "source": [
    "def traduce(x): return translator.translate(x,dest=\"es\").text"
   ]
  },
  {
   "cell_type": "code",
   "execution_count": 12,
   "id": "e4f1db0e-82da-4467-b62e-c86107d8eadd",
   "metadata": {},
   "outputs": [
    {
     "name": "stderr",
     "output_type": "stream",
     "text": [
      "/tmp/ipykernel_2736052/3052668504.py:1: TqdmWarning: Iterable length 8744 > 1000 but `chunksize` is not set. This may seriously degrade multiprocess performance. Set `chunksize=1` or more.\n",
      "  res = process_map(traduce,df['Text'],max_workers=8)\n"
     ]
    },
    {
     "data": {
      "application/vnd.jupyter.widget-view+json": {
       "model_id": "d8baa6a7b4bb436ea45b687b8e8120fc",
       "version_major": 2,
       "version_minor": 0
      },
      "text/plain": [
       "  0%|          | 0/8744 [00:00<?, ?it/s]"
      ]
     },
     "metadata": {},
     "output_type": "display_data"
    }
   ],
   "source": [
    "res = process_map(traduce,df['Text'],max_workers=8)"
   ]
  },
  {
   "cell_type": "code",
   "execution_count": 13,
   "id": "9e83134b-9cea-4190-8eb5-1296ac06768a",
   "metadata": {},
   "outputs": [],
   "source": [
    "df['Text']=res"
   ]
  },
  {
   "cell_type": "code",
   "execution_count": 15,
   "id": "bfa00668-ce26-4ce5-8382-e7dced7aa380",
   "metadata": {},
   "outputs": [
    {
     "data": {
      "text/plain": [
       "'Mi vida no tiene sentido. Solo quiero terminar con mi vida. Mi vida está completamente vacía y no quiero tener que crearle significado. Crear significado es dolor. ¿Cuánto tiempo voy a contener la necesidad de hacer correr mi auto de cabeza hacia el siguiente? persona que viene en sentido contrario ¿cuándo dejaré de sentir celos de personajes trágicos como gomer pile por el rápido final que pudieron traer a sus vidas?'"
      ]
     },
     "execution_count": 15,
     "metadata": {},
     "output_type": "execute_result"
    }
   ],
   "source": [
    "df[df.Label==1]['Text'].values[0]"
   ]
  },
  {
   "cell_type": "code",
   "execution_count": 16,
   "id": "63d03f4e-cc66-41ee-8da1-c5e819a9e0ff",
   "metadata": {},
   "outputs": [],
   "source": [
    "df.to_csv('Datasets/08_twitter-suicidal_data_10000_es.csv',index=None)"
   ]
  },
  {
   "cell_type": "code",
   "execution_count": null,
   "id": "019649f8-5ecf-4694-9d04-3037852fa482",
   "metadata": {},
   "outputs": [],
   "source": []
  }
 ],
 "metadata": {
  "kernelspec": {
   "display_name": "Python [conda env:fastai]",
   "language": "python",
   "name": "conda-env-fastai-py"
  },
  "language_info": {
   "codemirror_mode": {
    "name": "ipython",
    "version": 3
   },
   "file_extension": ".py",
   "mimetype": "text/x-python",
   "name": "python",
   "nbconvert_exporter": "python",
   "pygments_lexer": "ipython3",
   "version": "3.10.10"
  }
 },
 "nbformat": 4,
 "nbformat_minor": 5
}
