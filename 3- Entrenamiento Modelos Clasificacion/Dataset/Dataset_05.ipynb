{
 "cells": [
  {
   "cell_type": "code",
   "execution_count": 1,
   "id": "06578e25-903e-4d9f-906a-d79257668091",
   "metadata": {},
   "outputs": [],
   "source": [
    "from googletrans import Translator\n",
    "import pandas as pd\n",
    "from tqdm import tqdm"
   ]
  },
  {
   "cell_type": "code",
   "execution_count": 4,
   "id": "ad9d81cc-83d0-4587-83b0-792bce9b8908",
   "metadata": {},
   "outputs": [],
   "source": [
    "df = pd.read_csv('Datasets/05_Labelled_tweets.tsv',sep='\\t',on_bad_lines=lambda x: x[0:3], engine='python')"
   ]
  },
  {
   "cell_type": "code",
   "execution_count": 8,
   "id": "2bb67392-6e63-4d19-a743-db24ded4ade7",
   "metadata": {},
   "outputs": [],
   "source": [
    "df.drop_duplicates(subset=['tweet'],keep=False,inplace=True)"
   ]
  },
  {
   "cell_type": "code",
   "execution_count": 11,
   "id": "9dfc7b57-b1e9-46c0-8abe-78303329a55a",
   "metadata": {},
   "outputs": [
    {
     "name": "stderr",
     "output_type": "stream",
     "text": [
      "100%|██████████| 604/604 [02:01<00:00,  4.96it/s]\n"
     ]
    }
   ],
   "source": [
    "res = []\n",
    "translator = Translator()\n",
    "for x in tqdm(df.iloc[:,2]):\n",
    "    res.append(translator.translate(x,dest=\"es\").text)"
   ]
  },
  {
   "cell_type": "code",
   "execution_count": 15,
   "id": "9e83134b-9cea-4190-8eb5-1296ac06768a",
   "metadata": {},
   "outputs": [],
   "source": [
    "df['Text']=res"
   ]
  },
  {
   "cell_type": "code",
   "execution_count": 30,
   "id": "bfa00668-ce26-4ce5-8382-e7dced7aa380",
   "metadata": {},
   "outputs": [
    {
     "data": {
      "text/plain": [
       "\"Rt @ rachelvmckinon : \\\\ '' más de la mitad de los hombres trans han intentado suicidarse\\\\ '' https : \\\\/\\\\/t.co\\\\/dbeu3grky5\""
      ]
     },
     "execution_count": 30,
     "metadata": {},
     "output_type": "execute_result"
    }
   ],
   "source": [
    "df[df.category==2]['Text'].values[80]"
   ]
  },
  {
   "cell_type": "code",
   "execution_count": null,
   "id": "6b842e23-0405-4016-a967-d8c9131f5f3c",
   "metadata": {},
   "outputs": [],
   "source": []
  }
 ],
 "metadata": {
  "kernelspec": {
   "display_name": "Python [conda env:fastai]",
   "language": "python",
   "name": "conda-env-fastai-py"
  },
  "language_info": {
   "codemirror_mode": {
    "name": "ipython",
    "version": 3
   },
   "file_extension": ".py",
   "mimetype": "text/x-python",
   "name": "python",
   "nbconvert_exporter": "python",
   "pygments_lexer": "ipython3",
   "version": "3.10.10"
  }
 },
 "nbformat": 4,
 "nbformat_minor": 5
}
