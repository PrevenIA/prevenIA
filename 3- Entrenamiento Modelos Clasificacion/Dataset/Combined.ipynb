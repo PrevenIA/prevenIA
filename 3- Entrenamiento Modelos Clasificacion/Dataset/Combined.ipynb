{
 "cells": [
  {
   "cell_type": "code",
   "execution_count": 1,
   "id": "ac5074f2-4fff-4182-8337-a909d093edc3",
   "metadata": {},
   "outputs": [],
   "source": [
    "import pandas as pd"
   ]
  },
  {
   "cell_type": "code",
   "execution_count": 3,
   "id": "c4b5ea06-2f6f-4509-a133-43793effd7d8",
   "metadata": {},
   "outputs": [],
   "source": [
    "df12 = pd.read_csv('Datasets/01_02.csv')\n",
    "df4 = pd.read_csv('Datasets/04_suicideTweetData_es.csv')\n",
    "df6 = pd.read_csv('Datasets/06_data_es.csv')\n",
    "df7 = pd.read_csv('Datasets/07_submissions-clean_es.csv')\n",
    "df8 = pd.read_csv('Datasets/08_twitter-suicidal_data_10000_es.csv')\n",
    "df9 = pd.read_csv('Datasets/09_Suicide_Ideation_Dataset(Twitter-based)_es.csv')"
   ]
  },
  {
   "cell_type": "code",
   "execution_count": 5,
   "id": "dee89b09-e5f9-4fa6-88e9-4600dd6be026",
   "metadata": {},
   "outputs": [],
   "source": [
    "df12.drop_duplicates(subset=['Text'],keep=False,inplace=True)"
   ]
  },
  {
   "cell_type": "code",
   "execution_count": 12,
   "id": "8d98637d-d444-4bb7-a777-2618fb14256b",
   "metadata": {},
   "outputs": [],
   "source": [
    "df4.drop(['Unnamed: 0'],axis=1,inplace=True)"
   ]
  },
  {
   "cell_type": "code",
   "execution_count": 13,
   "id": "6e750fbb-6719-4b77-9875-7a1ffdecba9f",
   "metadata": {},
   "outputs": [],
   "source": [
    "dfCombined = pd.concat([df12,df4,df6,df7,df8,df9])"
   ]
  },
  {
   "cell_type": "code",
   "execution_count": 15,
   "id": "9767efc3-c553-449a-baa4-6db62b8a0ac5",
   "metadata": {},
   "outputs": [],
   "source": [
    "dfCombined.drop_duplicates(subset=['Text'],keep=False,inplace=True)"
   ]
  },
  {
   "cell_type": "code",
   "execution_count": 16,
   "id": "35179576-d4fd-4fb5-b4d2-27a348d6c1a1",
   "metadata": {},
   "outputs": [
    {
     "data": {
      "text/html": [
       "<div>\n",
       "<style scoped>\n",
       "    .dataframe tbody tr th:only-of-type {\n",
       "        vertical-align: middle;\n",
       "    }\n",
       "\n",
       "    .dataframe tbody tr th {\n",
       "        vertical-align: top;\n",
       "    }\n",
       "\n",
       "    .dataframe thead th {\n",
       "        text-align: right;\n",
       "    }\n",
       "</style>\n",
       "<table border=\"1\" class=\"dataframe\">\n",
       "  <thead>\n",
       "    <tr style=\"text-align: right;\">\n",
       "      <th></th>\n",
       "      <th>Text</th>\n",
       "      <th>Label</th>\n",
       "    </tr>\n",
       "  </thead>\n",
       "  <tbody>\n",
       "    <tr>\n",
       "      <th>0</th>\n",
       "      <td>Pablo Picasso es un artista famoso de principi...</td>\n",
       "      <td>0</td>\n",
       "    </tr>\n",
       "    <tr>\n",
       "      <th>1</th>\n",
       "      <td>Las mujeres son extrañas, sé lo que quieres de...</td>\n",
       "      <td>0</td>\n",
       "    </tr>\n",
       "    <tr>\n",
       "      <th>2</th>\n",
       "      <td>import datetime\\ncadenaFechaHora = \"20/08/2020...</td>\n",
       "      <td>0</td>\n",
       "    </tr>\n",
       "    <tr>\n",
       "      <th>3</th>\n",
       "      <td>Coursera.org</td>\n",
       "      <td>0</td>\n",
       "    </tr>\n",
       "    <tr>\n",
       "      <th>4</th>\n",
       "      <td>Dime quién fue la primera celebridad en ganar ...</td>\n",
       "      <td>0</td>\n",
       "    </tr>\n",
       "    <tr>\n",
       "      <th>...</th>\n",
       "      <td>...</td>\n",
       "      <td>...</td>\n",
       "    </tr>\n",
       "    <tr>\n",
       "      <th>1764</th>\n",
       "      <td>He olvidado cuánto amo mi Nokia N95-1</td>\n",
       "      <td>0</td>\n",
       "    </tr>\n",
       "    <tr>\n",
       "      <th>1765</th>\n",
       "      <td>¡Empezando mi día con una actitud positiva! ¡S...</td>\n",
       "      <td>0</td>\n",
       "    </tr>\n",
       "    <tr>\n",
       "      <th>1766</th>\n",
       "      <td>@belledame222 Oye, son las 5 de la mañana... d...</td>\n",
       "      <td>0</td>\n",
       "    </tr>\n",
       "    <tr>\n",
       "      <th>1767</th>\n",
       "      <td>Dos mejores amigas borrachas entran a mi habit...</td>\n",
       "      <td>0</td>\n",
       "    </tr>\n",
       "    <tr>\n",
       "      <th>1768</th>\n",
       "      <td>@dancingbonita \"¡¡¡Te amo muchísimo!!!\" -Ron B...</td>\n",
       "      <td>0</td>\n",
       "    </tr>\n",
       "  </tbody>\n",
       "</table>\n",
       "<p>62630 rows × 2 columns</p>\n",
       "</div>"
      ],
      "text/plain": [
       "                                                   Text  Label\n",
       "0     Pablo Picasso es un artista famoso de principi...      0\n",
       "1     Las mujeres son extrañas, sé lo que quieres de...      0\n",
       "2     import datetime\\ncadenaFechaHora = \"20/08/2020...      0\n",
       "3                                          Coursera.org      0\n",
       "4     Dime quién fue la primera celebridad en ganar ...      0\n",
       "...                                                 ...    ...\n",
       "1764              He olvidado cuánto amo mi Nokia N95-1      0\n",
       "1765  ¡Empezando mi día con una actitud positiva! ¡S...      0\n",
       "1766  @belledame222 Oye, son las 5 de la mañana... d...      0\n",
       "1767  Dos mejores amigas borrachas entran a mi habit...      0\n",
       "1768  @dancingbonita \"¡¡¡Te amo muchísimo!!!\" -Ron B...      0\n",
       "\n",
       "[62630 rows x 2 columns]"
      ]
     },
     "execution_count": 16,
     "metadata": {},
     "output_type": "execute_result"
    }
   ],
   "source": [
    "dfCombined"
   ]
  },
  {
   "cell_type": "code",
   "execution_count": 17,
   "id": "aaa093a4-c4e0-407d-a975-4e7ebb859dca",
   "metadata": {},
   "outputs": [
    {
     "data": {
      "text/html": [
       "<div>\n",
       "<style scoped>\n",
       "    .dataframe tbody tr th:only-of-type {\n",
       "        vertical-align: middle;\n",
       "    }\n",
       "\n",
       "    .dataframe tbody tr th {\n",
       "        vertical-align: top;\n",
       "    }\n",
       "\n",
       "    .dataframe thead th {\n",
       "        text-align: right;\n",
       "    }\n",
       "</style>\n",
       "<table border=\"1\" class=\"dataframe\">\n",
       "  <thead>\n",
       "    <tr style=\"text-align: right;\">\n",
       "      <th></th>\n",
       "      <th>Text</th>\n",
       "      <th>Label</th>\n",
       "    </tr>\n",
       "  </thead>\n",
       "  <tbody>\n",
       "    <tr>\n",
       "      <th>0</th>\n",
       "      <td>Siempre me hizo sentir inútil pero de repente ...</td>\n",
       "      <td>1</td>\n",
       "    </tr>\n",
       "    <tr>\n",
       "      <th>1</th>\n",
       "      <td>mi vida apesta solo quiero rendirme y llorar</td>\n",
       "      <td>1</td>\n",
       "    </tr>\n",
       "    <tr>\n",
       "      <th>2</th>\n",
       "      <td>raza de macho de queensland que ya debería hab...</td>\n",
       "      <td>1</td>\n",
       "    </tr>\n",
       "    <tr>\n",
       "      <th>3</th>\n",
       "      <td>Más cerca de suicidarme todos los días famsqua...</td>\n",
       "      <td>1</td>\n",
       "    </tr>\n",
       "    <tr>\n",
       "      <th>4</th>\n",
       "      <td>Sabes, cuando la vida te golpea fuerte y te de...</td>\n",
       "      <td>1</td>\n",
       "    </tr>\n",
       "    <tr>\n",
       "      <th>...</th>\n",
       "      <td>...</td>\n",
       "      <td>...</td>\n",
       "    </tr>\n",
       "    <tr>\n",
       "      <th>46889</th>\n",
       "      <td>Prakash fue descubierto por la policía el domi...</td>\n",
       "      <td>1</td>\n",
       "    </tr>\n",
       "    <tr>\n",
       "      <th>46890</th>\n",
       "      <td>¡Hola gente quiere ver un truco de magia y ver...</td>\n",
       "      <td>1</td>\n",
       "    </tr>\n",
       "    <tr>\n",
       "      <th>46891</th>\n",
       "      <td>cómo duermo sabiendo que ya no tendré que dibu...</td>\n",
       "      <td>1</td>\n",
       "    </tr>\n",
       "    <tr>\n",
       "      <th>46892</th>\n",
       "      <td>Sólo quiero que seas feliz si me voy de este m...</td>\n",
       "      <td>1</td>\n",
       "    </tr>\n",
       "    <tr>\n",
       "      <th>46893</th>\n",
       "      <td>El punto era que afecta la vida familiar; vivi...</td>\n",
       "      <td>1</td>\n",
       "    </tr>\n",
       "  </tbody>\n",
       "</table>\n",
       "<p>46894 rows × 2 columns</p>\n",
       "</div>"
      ],
      "text/plain": [
       "                                                    Text  Label\n",
       "0      Siempre me hizo sentir inútil pero de repente ...      1\n",
       "1           mi vida apesta solo quiero rendirme y llorar      1\n",
       "2      raza de macho de queensland que ya debería hab...      1\n",
       "3      Más cerca de suicidarme todos los días famsqua...      1\n",
       "4      Sabes, cuando la vida te golpea fuerte y te de...      1\n",
       "...                                                  ...    ...\n",
       "46889  Prakash fue descubierto por la policía el domi...      1\n",
       "46890  ¡Hola gente quiere ver un truco de magia y ver...      1\n",
       "46891  cómo duermo sabiendo que ya no tendré que dibu...      1\n",
       "46892  Sólo quiero que seas feliz si me voy de este m...      1\n",
       "46893  El punto era que afecta la vida familiar; vivi...      1\n",
       "\n",
       "[46894 rows x 2 columns]"
      ]
     },
     "execution_count": 17,
     "metadata": {},
     "output_type": "execute_result"
    }
   ],
   "source": [
    "df4"
   ]
  },
  {
   "cell_type": "code",
   "execution_count": null,
   "id": "34fd31d7-20f1-48b8-9894-2885341338c1",
   "metadata": {},
   "outputs": [],
   "source": []
  }
 ],
 "metadata": {
  "kernelspec": {
   "display_name": "Python [conda env:fastai]",
   "language": "python",
   "name": "conda-env-fastai-py"
  },
  "language_info": {
   "codemirror_mode": {
    "name": "ipython",
    "version": 3
   },
   "file_extension": ".py",
   "mimetype": "text/x-python",
   "name": "python",
   "nbconvert_exporter": "python",
   "pygments_lexer": "ipython3",
   "version": "3.10.10"
  }
 },
 "nbformat": 4,
 "nbformat_minor": 5
}
