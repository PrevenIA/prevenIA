{
 "cells": [
  {
   "cell_type": "code",
   "execution_count": 6,
   "id": "3521fff9-ccee-47b8-8ff4-c81b9ca1081f",
   "metadata": {},
   "outputs": [],
   "source": [
    "import pandas as pd\n",
    "from tqdm import tqdm\n",
    "from transformers import pipeline"
   ]
  },
  {
   "cell_type": "code",
   "execution_count": 7,
   "id": "b3c6f1ec-0b28-4c7d-8bfa-c7381d7a0016",
   "metadata": {},
   "outputs": [],
   "source": [
    "translator = Translator()"
   ]
  },
  {
   "cell_type": "code",
   "execution_count": 8,
   "id": "ebf9a67b-272d-4a86-b8f7-04fb3e02c9cc",
   "metadata": {},
   "outputs": [],
   "source": [
    "df4 = pd.read_csv('Datasets/04_suicideTweetData.csv',header=None)"
   ]
  },
  {
   "cell_type": "code",
   "execution_count": 9,
   "id": "0cac3996-3843-42c6-baa5-a14d80812261",
   "metadata": {},
   "outputs": [],
   "source": [
    "def traduce(x): return translator.translate(x,dest=\"es\").text"
   ]
  },
  {
   "cell_type": "code",
   "execution_count": null,
   "id": "a0482fa4-79cf-4fc3-9bd8-51bac0a6b2c0",
   "metadata": {},
   "outputs": [],
   "source": []
  },
  {
   "cell_type": "code",
   "execution_count": 8,
   "id": "1d059f6a-b679-4279-82a0-8c2edd839d03",
   "metadata": {},
   "outputs": [
    {
     "name": "stderr",
     "output_type": "stream",
     "text": [
      "/tmp/ipykernel_2735013/2862598264.py:1: TqdmWarning: Iterable length 52616 > 1000 but `chunksize` is not set. This may seriously degrade multiprocess performance. Set `chunksize=1` or more.\n",
      "  res = process_map(traduce,df4.iloc[:,0],max_workers=8)\n"
     ]
    },
    {
     "data": {
      "application/vnd.jupyter.widget-view+json": {
       "model_id": "154b373c1705488dae139fc57c0a1896",
       "version_major": 2,
       "version_minor": 0
      },
      "text/plain": [
       "  0%|          | 0/52616 [00:00<?, ?it/s]"
      ]
     },
     "metadata": {},
     "output_type": "display_data"
    }
   ],
   "source": [
    "res = process_map(traduce,df4.iloc[:,0],max_workers=8)\n"
   ]
  },
  {
   "cell_type": "code",
   "execution_count": 25,
   "id": "c8f4333d-d3d2-4b25-91ef-64c2a2b023e5",
   "metadata": {},
   "outputs": [],
   "source": [
    "df4.rename(columns={0:\"Text\",1:\"Label\"},inplace=True)"
   ]
  },
  {
   "cell_type": "code",
   "execution_count": 26,
   "id": "2fca81ab-cb5e-4f7c-9c07-737f205e3054",
   "metadata": {},
   "outputs": [],
   "source": [
    "df4[\"Text\"]=res"
   ]
  },
  {
   "cell_type": "code",
   "execution_count": 27,
   "id": "6ed48ea2-cedf-4408-8f25-b05f41206cd9",
   "metadata": {},
   "outputs": [],
   "source": [
    "df4.drop_duplicates(subset=['Text'],keep=False,inplace=True)"
   ]
  },
  {
   "cell_type": "code",
   "execution_count": 29,
   "id": "90f34ce0-db23-4d44-9127-527427aa7800",
   "metadata": {},
   "outputs": [],
   "source": [
    "df4.loc[:,'Label']=df4['Label'].apply(lambda x : 1)"
   ]
  },
  {
   "cell_type": "code",
   "execution_count": 31,
   "id": "38cea2c9-f006-4fb1-8aae-ab9a78536d37",
   "metadata": {},
   "outputs": [],
   "source": [
    "df4.to_csv('Datasets/04_suicideTweetData_es.csv')"
   ]
  },
  {
   "cell_type": "code",
   "execution_count": 32,
   "id": "d56780d8-0cdf-466a-be8d-c18b6d7f5582",
   "metadata": {},
   "outputs": [
    {
     "data": {
      "text/html": [
       "<div>\n",
       "<style scoped>\n",
       "    .dataframe tbody tr th:only-of-type {\n",
       "        vertical-align: middle;\n",
       "    }\n",
       "\n",
       "    .dataframe tbody tr th {\n",
       "        vertical-align: top;\n",
       "    }\n",
       "\n",
       "    .dataframe thead th {\n",
       "        text-align: right;\n",
       "    }\n",
       "</style>\n",
       "<table border=\"1\" class=\"dataframe\">\n",
       "  <thead>\n",
       "    <tr style=\"text-align: right;\">\n",
       "      <th></th>\n",
       "      <th>Text</th>\n",
       "      <th>Label</th>\n",
       "    </tr>\n",
       "  </thead>\n",
       "  <tbody>\n",
       "    <tr>\n",
       "      <th>0</th>\n",
       "      <td>Siempre me hizo sentir inútil pero de repente ...</td>\n",
       "      <td>1</td>\n",
       "    </tr>\n",
       "    <tr>\n",
       "      <th>2</th>\n",
       "      <td>mi vida apesta solo quiero rendirme y llorar</td>\n",
       "      <td>1</td>\n",
       "    </tr>\n",
       "    <tr>\n",
       "      <th>3</th>\n",
       "      <td>raza de macho de queensland que ya debería hab...</td>\n",
       "      <td>1</td>\n",
       "    </tr>\n",
       "    <tr>\n",
       "      <th>4</th>\n",
       "      <td>Más cerca de suicidarme todos los días famsqua...</td>\n",
       "      <td>1</td>\n",
       "    </tr>\n",
       "    <tr>\n",
       "      <th>5</th>\n",
       "      <td>Sabes, cuando la vida te golpea fuerte y te de...</td>\n",
       "      <td>1</td>\n",
       "    </tr>\n",
       "    <tr>\n",
       "      <th>...</th>\n",
       "      <td>...</td>\n",
       "      <td>...</td>\n",
       "    </tr>\n",
       "    <tr>\n",
       "      <th>52611</th>\n",
       "      <td>Prakash fue descubierto por la policía el domi...</td>\n",
       "      <td>1</td>\n",
       "    </tr>\n",
       "    <tr>\n",
       "      <th>52612</th>\n",
       "      <td>¡Hola gente quiere ver un truco de magia y ver...</td>\n",
       "      <td>1</td>\n",
       "    </tr>\n",
       "    <tr>\n",
       "      <th>52613</th>\n",
       "      <td>cómo duermo sabiendo que ya no tendré que dibu...</td>\n",
       "      <td>1</td>\n",
       "    </tr>\n",
       "    <tr>\n",
       "      <th>52614</th>\n",
       "      <td>Sólo quiero que seas feliz si me voy de este m...</td>\n",
       "      <td>1</td>\n",
       "    </tr>\n",
       "    <tr>\n",
       "      <th>52615</th>\n",
       "      <td>El punto era que afecta la vida familiar; vivi...</td>\n",
       "      <td>1</td>\n",
       "    </tr>\n",
       "  </tbody>\n",
       "</table>\n",
       "<p>46894 rows × 2 columns</p>\n",
       "</div>"
      ],
      "text/plain": [
       "                                                    Text  Label\n",
       "0      Siempre me hizo sentir inútil pero de repente ...      1\n",
       "2           mi vida apesta solo quiero rendirme y llorar      1\n",
       "3      raza de macho de queensland que ya debería hab...      1\n",
       "4      Más cerca de suicidarme todos los días famsqua...      1\n",
       "5      Sabes, cuando la vida te golpea fuerte y te de...      1\n",
       "...                                                  ...    ...\n",
       "52611  Prakash fue descubierto por la policía el domi...      1\n",
       "52612  ¡Hola gente quiere ver un truco de magia y ver...      1\n",
       "52613  cómo duermo sabiendo que ya no tendré que dibu...      1\n",
       "52614  Sólo quiero que seas feliz si me voy de este m...      1\n",
       "52615  El punto era que afecta la vida familiar; vivi...      1\n",
       "\n",
       "[46894 rows x 2 columns]"
      ]
     },
     "execution_count": 32,
     "metadata": {},
     "output_type": "execute_result"
    }
   ],
   "source": [
    "df4"
   ]
  },
  {
   "cell_type": "code",
   "execution_count": null,
   "id": "689daf96-9eb1-4c48-8f6a-3f983839de7b",
   "metadata": {},
   "outputs": [],
   "source": []
  }
 ],
 "metadata": {
  "kernelspec": {
   "display_name": "Python [conda env:fastai]",
   "language": "python",
   "name": "conda-env-fastai-py"
  },
  "language_info": {
   "codemirror_mode": {
    "name": "ipython",
    "version": 3
   },
   "file_extension": ".py",
   "mimetype": "text/x-python",
   "name": "python",
   "nbconvert_exporter": "python",
   "pygments_lexer": "ipython3",
   "version": "3.10.10"
  }
 },
 "nbformat": 4,
 "nbformat_minor": 5
}
