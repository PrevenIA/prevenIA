{
 "cells": [
  {
   "cell_type": "code",
   "execution_count": 1,
   "id": "06578e25-903e-4d9f-906a-d79257668091",
   "metadata": {},
   "outputs": [],
   "source": [
    "from googletrans import Translator\n",
    "import pandas as pd\n",
    "from tqdm import tqdm\n",
    "import numpy as np\n",
    "from tqdm.contrib.concurrent import process_map"
   ]
  },
  {
   "cell_type": "code",
   "execution_count": 2,
   "id": "ad9d81cc-83d0-4587-83b0-792bce9b8908",
   "metadata": {},
   "outputs": [],
   "source": [
    "df = pd.read_csv('Datasets/09_Suicide_Ideation_Dataset(Twitter-based).csv')"
   ]
  },
  {
   "cell_type": "code",
   "execution_count": 3,
   "id": "35c7f876-f3b6-46ef-932b-dba821e4dc1c",
   "metadata": {},
   "outputs": [
    {
     "data": {
      "text/html": [
       "<div>\n",
       "<style scoped>\n",
       "    .dataframe tbody tr th:only-of-type {\n",
       "        vertical-align: middle;\n",
       "    }\n",
       "\n",
       "    .dataframe tbody tr th {\n",
       "        vertical-align: top;\n",
       "    }\n",
       "\n",
       "    .dataframe thead th {\n",
       "        text-align: right;\n",
       "    }\n",
       "</style>\n",
       "<table border=\"1\" class=\"dataframe\">\n",
       "  <thead>\n",
       "    <tr style=\"text-align: right;\">\n",
       "      <th></th>\n",
       "      <th>Tweet</th>\n",
       "      <th>Suicide</th>\n",
       "    </tr>\n",
       "  </thead>\n",
       "  <tbody>\n",
       "    <tr>\n",
       "      <th>0</th>\n",
       "      <td>making some lunch</td>\n",
       "      <td>Not Suicide post</td>\n",
       "    </tr>\n",
       "    <tr>\n",
       "      <th>1</th>\n",
       "      <td>@Alexia You want his money.</td>\n",
       "      <td>Not Suicide post</td>\n",
       "    </tr>\n",
       "    <tr>\n",
       "      <th>2</th>\n",
       "      <td>@dizzyhrvy that crap took me forever to put to...</td>\n",
       "      <td>Potential Suicide post</td>\n",
       "    </tr>\n",
       "    <tr>\n",
       "      <th>3</th>\n",
       "      <td>@jnaylor #kiwitweets Hey Jer! Since when did y...</td>\n",
       "      <td>Not Suicide post</td>\n",
       "    </tr>\n",
       "    <tr>\n",
       "      <th>4</th>\n",
       "      <td>Trying out &amp;quot;Delicious Library 2&amp;quot; wit...</td>\n",
       "      <td>Not Suicide post</td>\n",
       "    </tr>\n",
       "    <tr>\n",
       "      <th>...</th>\n",
       "      <td>...</td>\n",
       "      <td>...</td>\n",
       "    </tr>\n",
       "    <tr>\n",
       "      <th>1782</th>\n",
       "      <td>i have forgotten how much i love my Nokia N95-1</td>\n",
       "      <td>Not Suicide post</td>\n",
       "    </tr>\n",
       "    <tr>\n",
       "      <th>1783</th>\n",
       "      <td>Starting my day out with a positive attitude! ...</td>\n",
       "      <td>Not Suicide post</td>\n",
       "    </tr>\n",
       "    <tr>\n",
       "      <th>1784</th>\n",
       "      <td>@belledame222 Hey, it's 5 am...give a girl som...</td>\n",
       "      <td>Not Suicide post</td>\n",
       "    </tr>\n",
       "    <tr>\n",
       "      <th>1785</th>\n",
       "      <td>2 drunken besties stumble into my room and we ...</td>\n",
       "      <td>Not Suicide post</td>\n",
       "    </tr>\n",
       "    <tr>\n",
       "      <th>1786</th>\n",
       "      <td>@dancingbonita &amp;quot;I friggin love you!!!&amp;quo...</td>\n",
       "      <td>Not Suicide post</td>\n",
       "    </tr>\n",
       "  </tbody>\n",
       "</table>\n",
       "<p>1787 rows × 2 columns</p>\n",
       "</div>"
      ],
      "text/plain": [
       "                                                  Tweet   \n",
       "0                                     making some lunch  \\\n",
       "1                           @Alexia You want his money.   \n",
       "2     @dizzyhrvy that crap took me forever to put to...   \n",
       "3     @jnaylor #kiwitweets Hey Jer! Since when did y...   \n",
       "4     Trying out &quot;Delicious Library 2&quot; wit...   \n",
       "...                                                 ...   \n",
       "1782    i have forgotten how much i love my Nokia N95-1   \n",
       "1783  Starting my day out with a positive attitude! ...   \n",
       "1784  @belledame222 Hey, it's 5 am...give a girl som...   \n",
       "1785  2 drunken besties stumble into my room and we ...   \n",
       "1786  @dancingbonita &quot;I friggin love you!!!&quo...   \n",
       "\n",
       "                      Suicide  \n",
       "0            Not Suicide post  \n",
       "1            Not Suicide post  \n",
       "2     Potential Suicide post   \n",
       "3            Not Suicide post  \n",
       "4            Not Suicide post  \n",
       "...                       ...  \n",
       "1782         Not Suicide post  \n",
       "1783         Not Suicide post  \n",
       "1784         Not Suicide post  \n",
       "1785         Not Suicide post  \n",
       "1786         Not Suicide post  \n",
       "\n",
       "[1787 rows x 2 columns]"
      ]
     },
     "execution_count": 3,
     "metadata": {},
     "output_type": "execute_result"
    }
   ],
   "source": [
    "df"
   ]
  },
  {
   "cell_type": "code",
   "execution_count": null,
   "id": "6886648d-d9a2-4066-9603-1f80091b28ea",
   "metadata": {},
   "outputs": [],
   "source": []
  },
  {
   "cell_type": "code",
   "execution_count": 4,
   "id": "5de3a206-7a6b-4841-95bd-866feda6cceb",
   "metadata": {},
   "outputs": [],
   "source": [
    "df.rename(columns={\"Tweet\":\"Text\",'Suicide':'Label'},inplace=True)"
   ]
  },
  {
   "cell_type": "code",
   "execution_count": 5,
   "id": "f5ba7b37-2625-48ff-9b1f-ba42afd3f58f",
   "metadata": {},
   "outputs": [],
   "source": [
    "df.loc[:,'Label']=df['Label'].apply(lambda x : 0 if x=='Not Suicide post' else 1)"
   ]
  },
  {
   "cell_type": "code",
   "execution_count": 6,
   "id": "132c4249-6bc8-48a7-b340-c8ab1df1cbdc",
   "metadata": {},
   "outputs": [
    {
     "data": {
      "text/html": [
       "<div>\n",
       "<style scoped>\n",
       "    .dataframe tbody tr th:only-of-type {\n",
       "        vertical-align: middle;\n",
       "    }\n",
       "\n",
       "    .dataframe tbody tr th {\n",
       "        vertical-align: top;\n",
       "    }\n",
       "\n",
       "    .dataframe thead th {\n",
       "        text-align: right;\n",
       "    }\n",
       "</style>\n",
       "<table border=\"1\" class=\"dataframe\">\n",
       "  <thead>\n",
       "    <tr style=\"text-align: right;\">\n",
       "      <th></th>\n",
       "      <th>Text</th>\n",
       "      <th>Label</th>\n",
       "    </tr>\n",
       "  </thead>\n",
       "  <tbody>\n",
       "    <tr>\n",
       "      <th>0</th>\n",
       "      <td>making some lunch</td>\n",
       "      <td>0</td>\n",
       "    </tr>\n",
       "    <tr>\n",
       "      <th>1</th>\n",
       "      <td>@Alexia You want his money.</td>\n",
       "      <td>0</td>\n",
       "    </tr>\n",
       "    <tr>\n",
       "      <th>2</th>\n",
       "      <td>@dizzyhrvy that crap took me forever to put to...</td>\n",
       "      <td>1</td>\n",
       "    </tr>\n",
       "    <tr>\n",
       "      <th>3</th>\n",
       "      <td>@jnaylor #kiwitweets Hey Jer! Since when did y...</td>\n",
       "      <td>0</td>\n",
       "    </tr>\n",
       "    <tr>\n",
       "      <th>4</th>\n",
       "      <td>Trying out &amp;quot;Delicious Library 2&amp;quot; wit...</td>\n",
       "      <td>0</td>\n",
       "    </tr>\n",
       "    <tr>\n",
       "      <th>...</th>\n",
       "      <td>...</td>\n",
       "      <td>...</td>\n",
       "    </tr>\n",
       "    <tr>\n",
       "      <th>1782</th>\n",
       "      <td>i have forgotten how much i love my Nokia N95-1</td>\n",
       "      <td>0</td>\n",
       "    </tr>\n",
       "    <tr>\n",
       "      <th>1783</th>\n",
       "      <td>Starting my day out with a positive attitude! ...</td>\n",
       "      <td>0</td>\n",
       "    </tr>\n",
       "    <tr>\n",
       "      <th>1784</th>\n",
       "      <td>@belledame222 Hey, it's 5 am...give a girl som...</td>\n",
       "      <td>0</td>\n",
       "    </tr>\n",
       "    <tr>\n",
       "      <th>1785</th>\n",
       "      <td>2 drunken besties stumble into my room and we ...</td>\n",
       "      <td>0</td>\n",
       "    </tr>\n",
       "    <tr>\n",
       "      <th>1786</th>\n",
       "      <td>@dancingbonita &amp;quot;I friggin love you!!!&amp;quo...</td>\n",
       "      <td>0</td>\n",
       "    </tr>\n",
       "  </tbody>\n",
       "</table>\n",
       "<p>1787 rows × 2 columns</p>\n",
       "</div>"
      ],
      "text/plain": [
       "                                                   Text Label\n",
       "0                                     making some lunch     0\n",
       "1                           @Alexia You want his money.     0\n",
       "2     @dizzyhrvy that crap took me forever to put to...     1\n",
       "3     @jnaylor #kiwitweets Hey Jer! Since when did y...     0\n",
       "4     Trying out &quot;Delicious Library 2&quot; wit...     0\n",
       "...                                                 ...   ...\n",
       "1782    i have forgotten how much i love my Nokia N95-1     0\n",
       "1783  Starting my day out with a positive attitude! ...     0\n",
       "1784  @belledame222 Hey, it's 5 am...give a girl som...     0\n",
       "1785  2 drunken besties stumble into my room and we ...     0\n",
       "1786  @dancingbonita &quot;I friggin love you!!!&quo...     0\n",
       "\n",
       "[1787 rows x 2 columns]"
      ]
     },
     "execution_count": 6,
     "metadata": {},
     "output_type": "execute_result"
    }
   ],
   "source": [
    "df"
   ]
  },
  {
   "cell_type": "code",
   "execution_count": 7,
   "id": "2bb67392-6e63-4d19-a743-db24ded4ade7",
   "metadata": {},
   "outputs": [],
   "source": [
    "df.drop_duplicates(subset=['Text'],keep=False,inplace=True)"
   ]
  },
  {
   "cell_type": "code",
   "execution_count": 8,
   "id": "2c92d2f8-259a-49d9-b815-c9ab2ea35ea5",
   "metadata": {},
   "outputs": [
    {
     "data": {
      "text/html": [
       "<div>\n",
       "<style scoped>\n",
       "    .dataframe tbody tr th:only-of-type {\n",
       "        vertical-align: middle;\n",
       "    }\n",
       "\n",
       "    .dataframe tbody tr th {\n",
       "        vertical-align: top;\n",
       "    }\n",
       "\n",
       "    .dataframe thead th {\n",
       "        text-align: right;\n",
       "    }\n",
       "</style>\n",
       "<table border=\"1\" class=\"dataframe\">\n",
       "  <thead>\n",
       "    <tr style=\"text-align: right;\">\n",
       "      <th></th>\n",
       "      <th>Text</th>\n",
       "      <th>Label</th>\n",
       "    </tr>\n",
       "  </thead>\n",
       "  <tbody>\n",
       "    <tr>\n",
       "      <th>0</th>\n",
       "      <td>making some lunch</td>\n",
       "      <td>0</td>\n",
       "    </tr>\n",
       "    <tr>\n",
       "      <th>1</th>\n",
       "      <td>@Alexia You want his money.</td>\n",
       "      <td>0</td>\n",
       "    </tr>\n",
       "    <tr>\n",
       "      <th>2</th>\n",
       "      <td>@dizzyhrvy that crap took me forever to put to...</td>\n",
       "      <td>1</td>\n",
       "    </tr>\n",
       "    <tr>\n",
       "      <th>3</th>\n",
       "      <td>@jnaylor #kiwitweets Hey Jer! Since when did y...</td>\n",
       "      <td>0</td>\n",
       "    </tr>\n",
       "    <tr>\n",
       "      <th>4</th>\n",
       "      <td>Trying out &amp;quot;Delicious Library 2&amp;quot; wit...</td>\n",
       "      <td>0</td>\n",
       "    </tr>\n",
       "    <tr>\n",
       "      <th>...</th>\n",
       "      <td>...</td>\n",
       "      <td>...</td>\n",
       "    </tr>\n",
       "    <tr>\n",
       "      <th>1782</th>\n",
       "      <td>i have forgotten how much i love my Nokia N95-1</td>\n",
       "      <td>0</td>\n",
       "    </tr>\n",
       "    <tr>\n",
       "      <th>1783</th>\n",
       "      <td>Starting my day out with a positive attitude! ...</td>\n",
       "      <td>0</td>\n",
       "    </tr>\n",
       "    <tr>\n",
       "      <th>1784</th>\n",
       "      <td>@belledame222 Hey, it's 5 am...give a girl som...</td>\n",
       "      <td>0</td>\n",
       "    </tr>\n",
       "    <tr>\n",
       "      <th>1785</th>\n",
       "      <td>2 drunken besties stumble into my room and we ...</td>\n",
       "      <td>0</td>\n",
       "    </tr>\n",
       "    <tr>\n",
       "      <th>1786</th>\n",
       "      <td>@dancingbonita &amp;quot;I friggin love you!!!&amp;quo...</td>\n",
       "      <td>0</td>\n",
       "    </tr>\n",
       "  </tbody>\n",
       "</table>\n",
       "<p>1769 rows × 2 columns</p>\n",
       "</div>"
      ],
      "text/plain": [
       "                                                   Text Label\n",
       "0                                     making some lunch     0\n",
       "1                           @Alexia You want his money.     0\n",
       "2     @dizzyhrvy that crap took me forever to put to...     1\n",
       "3     @jnaylor #kiwitweets Hey Jer! Since when did y...     0\n",
       "4     Trying out &quot;Delicious Library 2&quot; wit...     0\n",
       "...                                                 ...   ...\n",
       "1782    i have forgotten how much i love my Nokia N95-1     0\n",
       "1783  Starting my day out with a positive attitude! ...     0\n",
       "1784  @belledame222 Hey, it's 5 am...give a girl som...     0\n",
       "1785  2 drunken besties stumble into my room and we ...     0\n",
       "1786  @dancingbonita &quot;I friggin love you!!!&quo...     0\n",
       "\n",
       "[1769 rows x 2 columns]"
      ]
     },
     "execution_count": 8,
     "metadata": {},
     "output_type": "execute_result"
    }
   ],
   "source": [
    "df"
   ]
  },
  {
   "cell_type": "code",
   "execution_count": 9,
   "id": "46ac7539-c81a-4984-a2d5-a6b6ee618fb4",
   "metadata": {},
   "outputs": [],
   "source": [
    "translator = Translator()"
   ]
  },
  {
   "cell_type": "code",
   "execution_count": 10,
   "id": "9dfc7b57-b1e9-46c0-8abe-78303329a55a",
   "metadata": {},
   "outputs": [],
   "source": [
    "def traduce(x): return translator.translate(x,dest=\"es\").text"
   ]
  },
  {
   "cell_type": "code",
   "execution_count": 11,
   "id": "e4f1db0e-82da-4467-b62e-c86107d8eadd",
   "metadata": {},
   "outputs": [
    {
     "name": "stderr",
     "output_type": "stream",
     "text": [
      "/tmp/ipykernel_2736736/3052668504.py:1: TqdmWarning: Iterable length 1769 > 1000 but `chunksize` is not set. This may seriously degrade multiprocess performance. Set `chunksize=1` or more.\n",
      "  res = process_map(traduce,df['Text'],max_workers=8)\n"
     ]
    },
    {
     "data": {
      "application/vnd.jupyter.widget-view+json": {
       "model_id": "138da84559414842a64d588bd1bda60e",
       "version_major": 2,
       "version_minor": 0
      },
      "text/plain": [
       "  0%|          | 0/1769 [00:00<?, ?it/s]"
      ]
     },
     "metadata": {},
     "output_type": "display_data"
    }
   ],
   "source": [
    "res = process_map(traduce,df['Text'],max_workers=8)"
   ]
  },
  {
   "cell_type": "code",
   "execution_count": 12,
   "id": "9e83134b-9cea-4190-8eb5-1296ac06768a",
   "metadata": {},
   "outputs": [],
   "source": [
    "df['Text']=res"
   ]
  },
  {
   "cell_type": "code",
   "execution_count": 20,
   "id": "bfa00668-ce26-4ce5-8382-e7dced7aa380",
   "metadata": {},
   "outputs": [
    {
     "data": {
      "text/plain": [
       "'Estoy en el punto del semestre en el que estoy tan cansado de todo. Sólo quiero darme la vuelta y morir.'"
      ]
     },
     "execution_count": 20,
     "metadata": {},
     "output_type": "execute_result"
    }
   ],
   "source": [
    "df[df.Label==1]['Text'].values[6]"
   ]
  },
  {
   "cell_type": "code",
   "execution_count": 21,
   "id": "63d03f4e-cc66-41ee-8da1-c5e819a9e0ff",
   "metadata": {},
   "outputs": [],
   "source": [
    "df.to_csv('Datasets/09_Suicide_Ideation_Dataset(Twitter-based)_es.csv',index=None)"
   ]
  },
  {
   "cell_type": "code",
   "execution_count": null,
   "id": "019649f8-5ecf-4694-9d04-3037852fa482",
   "metadata": {},
   "outputs": [],
   "source": []
  }
 ],
 "metadata": {
  "kernelspec": {
   "display_name": "Python [conda env:fastai]",
   "language": "python",
   "name": "conda-env-fastai-py"
  },
  "language_info": {
   "codemirror_mode": {
    "name": "ipython",
    "version": 3
   },
   "file_extension": ".py",
   "mimetype": "text/x-python",
   "name": "python",
   "nbconvert_exporter": "python",
   "pygments_lexer": "ipython3",
   "version": "3.10.10"
  }
 },
 "nbformat": 4,
 "nbformat_minor": 5
}
