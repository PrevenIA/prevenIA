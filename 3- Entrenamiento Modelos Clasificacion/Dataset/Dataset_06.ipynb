{
 "cells": [
  {
   "cell_type": "code",
   "execution_count": 1,
   "id": "06578e25-903e-4d9f-906a-d79257668091",
   "metadata": {},
   "outputs": [],
   "source": [
    "from googletrans import Translator\n",
    "import pandas as pd\n",
    "from tqdm import tqdm"
   ]
  },
  {
   "cell_type": "code",
   "execution_count": 2,
   "id": "ad9d81cc-83d0-4587-83b0-792bce9b8908",
   "metadata": {},
   "outputs": [],
   "source": [
    "df = pd.read_csv('Datasets/06_data.csv')"
   ]
  },
  {
   "cell_type": "code",
   "execution_count": 3,
   "id": "5961ff62-32af-40b1-8bb4-e6d41b83333d",
   "metadata": {},
   "outputs": [],
   "source": [
    "df.loc[:,'label'] = df['label'].apply(lambda x : 1 if x=='__label__suicidal' else 0)"
   ]
  },
  {
   "cell_type": "code",
   "execution_count": 4,
   "id": "5de3a206-7a6b-4841-95bd-866feda6cceb",
   "metadata": {},
   "outputs": [],
   "source": [
    "df.rename(columns={\"text\":\"Text\",\"label\":\"Label\"},inplace=True)"
   ]
  },
  {
   "cell_type": "code",
   "execution_count": 5,
   "id": "f5ba7b37-2625-48ff-9b1f-ba42afd3f58f",
   "metadata": {},
   "outputs": [
    {
     "data": {
      "text/html": [
       "<div>\n",
       "<style scoped>\n",
       "    .dataframe tbody tr th:only-of-type {\n",
       "        vertical-align: middle;\n",
       "    }\n",
       "\n",
       "    .dataframe tbody tr th {\n",
       "        vertical-align: top;\n",
       "    }\n",
       "\n",
       "    .dataframe thead th {\n",
       "        text-align: right;\n",
       "    }\n",
       "</style>\n",
       "<table border=\"1\" class=\"dataframe\">\n",
       "  <thead>\n",
       "    <tr style=\"text-align: right;\">\n",
       "      <th></th>\n",
       "      <th>Label</th>\n",
       "      <th>Text</th>\n",
       "    </tr>\n",
       "  </thead>\n",
       "  <tbody>\n",
       "    <tr>\n",
       "      <th>0</th>\n",
       "      <td>1</td>\n",
       "      <td>my life is meaningless i just want to end my l...</td>\n",
       "    </tr>\n",
       "    <tr>\n",
       "      <th>1</th>\n",
       "      <td>1</td>\n",
       "      <td>muttering i wanna die to myself daily for a fe...</td>\n",
       "    </tr>\n",
       "    <tr>\n",
       "      <th>2</th>\n",
       "      <td>1</td>\n",
       "      <td>work slave i really feel like my only purpose ...</td>\n",
       "    </tr>\n",
       "    <tr>\n",
       "      <th>3</th>\n",
       "      <td>1</td>\n",
       "      <td>i did something on the 2 of october i overdose...</td>\n",
       "    </tr>\n",
       "    <tr>\n",
       "      <th>4</th>\n",
       "      <td>1</td>\n",
       "      <td>i feel like no one cares i just want to die ma...</td>\n",
       "    </tr>\n",
       "    <tr>\n",
       "      <th>...</th>\n",
       "      <td>...</td>\n",
       "      <td>...</td>\n",
       "    </tr>\n",
       "    <tr>\n",
       "      <th>7117</th>\n",
       "      <td>0</td>\n",
       "      <td>rented marley and me if you watch it be prepar...</td>\n",
       "    </tr>\n",
       "    <tr>\n",
       "      <th>7118</th>\n",
       "      <td>0</td>\n",
       "      <td>another night all alone and it s really spooky</td>\n",
       "    </tr>\n",
       "    <tr>\n",
       "      <th>7119</th>\n",
       "      <td>0</td>\n",
       "      <td>you okay laura</td>\n",
       "    </tr>\n",
       "    <tr>\n",
       "      <th>7120</th>\n",
       "      <td>0</td>\n",
       "      <td>goodnight twitterlandtime for me to go to drea...</td>\n",
       "    </tr>\n",
       "    <tr>\n",
       "      <th>7121</th>\n",
       "      <td>0</td>\n",
       "      <td>going to bed work in the morning</td>\n",
       "    </tr>\n",
       "  </tbody>\n",
       "</table>\n",
       "<p>7122 rows × 2 columns</p>\n",
       "</div>"
      ],
      "text/plain": [
       "     Label                                               Text\n",
       "0        1  my life is meaningless i just want to end my l...\n",
       "1        1  muttering i wanna die to myself daily for a fe...\n",
       "2        1  work slave i really feel like my only purpose ...\n",
       "3        1  i did something on the 2 of october i overdose...\n",
       "4        1  i feel like no one cares i just want to die ma...\n",
       "...    ...                                                ...\n",
       "7117     0  rented marley and me if you watch it be prepar...\n",
       "7118     0    another night all alone and it s really spooky \n",
       "7119     0                                    you okay laura \n",
       "7120     0  goodnight twitterlandtime for me to go to drea...\n",
       "7121     0                  going to bed work in the morning \n",
       "\n",
       "[7122 rows x 2 columns]"
      ]
     },
     "execution_count": 5,
     "metadata": {},
     "output_type": "execute_result"
    }
   ],
   "source": [
    "df"
   ]
  },
  {
   "cell_type": "code",
   "execution_count": 6,
   "id": "2bb67392-6e63-4d19-a743-db24ded4ade7",
   "metadata": {},
   "outputs": [],
   "source": [
    "df.drop_duplicates(subset=['Text'],keep=False,inplace=True)"
   ]
  },
  {
   "cell_type": "code",
   "execution_count": 7,
   "id": "9dfc7b57-b1e9-46c0-8abe-78303329a55a",
   "metadata": {},
   "outputs": [
    {
     "name": "stderr",
     "output_type": "stream",
     "text": [
      "100%|██████████| 7084/7084 [14:41<00:00,  8.04it/s]  \n"
     ]
    }
   ],
   "source": [
    "res = []\n",
    "translator = Translator()\n",
    "for x in tqdm(df.iloc[:,1]):\n",
    "    res.append(translator.translate(x,dest=\"es\").text)"
   ]
  },
  {
   "cell_type": "code",
   "execution_count": 8,
   "id": "9e83134b-9cea-4190-8eb5-1296ac06768a",
   "metadata": {},
   "outputs": [],
   "source": [
    "df['Text']=res"
   ]
  },
  {
   "cell_type": "code",
   "execution_count": 9,
   "id": "bfa00668-ce26-4ce5-8382-e7dced7aa380",
   "metadata": {},
   "outputs": [
    {
     "data": {
      "text/plain": [
       "'Siento que a nadie le importa sólo quiero morir tal vez entonces me sentiría menos solo'"
      ]
     },
     "execution_count": 9,
     "metadata": {},
     "output_type": "execute_result"
    }
   ],
   "source": [
    "df[df.Label==1]['Text'].values[4]"
   ]
  },
  {
   "cell_type": "code",
   "execution_count": 11,
   "id": "6b842e23-0405-4016-a967-d8c9131f5f3c",
   "metadata": {},
   "outputs": [],
   "source": [
    "df.to_csv('Datasets/06_data_es.csv',index=None)"
   ]
  },
  {
   "cell_type": "code",
   "execution_count": null,
   "id": "4575906b-d917-45f3-9739-d016b1a370ef",
   "metadata": {},
   "outputs": [],
   "source": []
  }
 ],
 "metadata": {
  "kernelspec": {
   "display_name": "Python [conda env:fastai]",
   "language": "python",
   "name": "conda-env-fastai-py"
  },
  "language_info": {
   "codemirror_mode": {
    "name": "ipython",
    "version": 3
   },
   "file_extension": ".py",
   "mimetype": "text/x-python",
   "name": "python",
   "nbconvert_exporter": "python",
   "pygments_lexer": "ipython3",
   "version": "3.10.10"
  }
 },
 "nbformat": 4,
 "nbformat_minor": 5
}
