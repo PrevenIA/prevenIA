{
 "cells": [
  {
   "cell_type": "code",
   "execution_count": 5,
   "id": "0b264f4a-25d8-4d21-8944-98bd86d3a765",
   "metadata": {},
   "outputs": [],
   "source": [
    "import pandas as pd"
   ]
  },
  {
   "cell_type": "code",
   "execution_count": 6,
   "id": "ebdea719-511b-481c-be79-1d1ca1cf20c9",
   "metadata": {},
   "outputs": [],
   "source": [
    "df1 = pd.read_csv('Datasets/01_suicide_comments_es.csv')"
   ]
  },
  {
   "cell_type": "code",
   "execution_count": 7,
   "id": "7ff79223-972f-4392-acc1-beb98f220d27",
   "metadata": {},
   "outputs": [
    {
     "data": {
      "text/html": [
       "<div>\n",
       "<style scoped>\n",
       "    .dataframe tbody tr th:only-of-type {\n",
       "        vertical-align: middle;\n",
       "    }\n",
       "\n",
       "    .dataframe tbody tr th {\n",
       "        vertical-align: top;\n",
       "    }\n",
       "\n",
       "    .dataframe thead th {\n",
       "        text-align: right;\n",
       "    }\n",
       "</style>\n",
       "<table border=\"1\" class=\"dataframe\">\n",
       "  <thead>\n",
       "    <tr style=\"text-align: right;\">\n",
       "      <th></th>\n",
       "      <th>Text</th>\n",
       "      <th>Label</th>\n",
       "    </tr>\n",
       "  </thead>\n",
       "  <tbody>\n",
       "    <tr>\n",
       "      <th>0</th>\n",
       "      <td>Pablo Picasso es un artista famoso de principi...</td>\n",
       "      <td>0</td>\n",
       "    </tr>\n",
       "    <tr>\n",
       "      <th>1</th>\n",
       "      <td>Las mujeres son extrañas, sé lo que quieres de...</td>\n",
       "      <td>0</td>\n",
       "    </tr>\n",
       "    <tr>\n",
       "      <th>2</th>\n",
       "      <td>import datetime\\ncadenaFechaHora = \"20/08/2020...</td>\n",
       "      <td>0</td>\n",
       "    </tr>\n",
       "    <tr>\n",
       "      <th>3</th>\n",
       "      <td>Coursera.org</td>\n",
       "      <td>0</td>\n",
       "    </tr>\n",
       "    <tr>\n",
       "      <th>4</th>\n",
       "      <td>Dime quién fue la primera celebridad en ganar ...</td>\n",
       "      <td>0</td>\n",
       "    </tr>\n",
       "    <tr>\n",
       "      <th>...</th>\n",
       "      <td>...</td>\n",
       "      <td>...</td>\n",
       "    </tr>\n",
       "    <tr>\n",
       "      <th>10045</th>\n",
       "      <td>Escriba un código en Python que genere una cad...</td>\n",
       "      <td>0</td>\n",
       "    </tr>\n",
       "    <tr>\n",
       "      <th>10046</th>\n",
       "      <td>Genera un título de un libro relacionado con e...</td>\n",
       "      <td>0</td>\n",
       "    </tr>\n",
       "    <tr>\n",
       "      <th>10047</th>\n",
       "      <td>Escriba un titular para un artículo de noticia...</td>\n",
       "      <td>0</td>\n",
       "    </tr>\n",
       "    <tr>\n",
       "      <th>10048</th>\n",
       "      <td>Mi restaurante favorito es uno que sirve comid...</td>\n",
       "      <td>0</td>\n",
       "    </tr>\n",
       "    <tr>\n",
       "      <th>10049</th>\n",
       "      <td>Crea una ecuación matemática que represente la...</td>\n",
       "      <td>0</td>\n",
       "    </tr>\n",
       "  </tbody>\n",
       "</table>\n",
       "<p>10050 rows × 2 columns</p>\n",
       "</div>"
      ],
      "text/plain": [
       "                                                    Text  Label\n",
       "0      Pablo Picasso es un artista famoso de principi...      0\n",
       "1      Las mujeres son extrañas, sé lo que quieres de...      0\n",
       "2      import datetime\\ncadenaFechaHora = \"20/08/2020...      0\n",
       "3                                           Coursera.org      0\n",
       "4      Dime quién fue la primera celebridad en ganar ...      0\n",
       "...                                                  ...    ...\n",
       "10045  Escriba un código en Python que genere una cad...      0\n",
       "10046  Genera un título de un libro relacionado con e...      0\n",
       "10047  Escriba un titular para un artículo de noticia...      0\n",
       "10048  Mi restaurante favorito es uno que sirve comid...      0\n",
       "10049  Crea una ecuación matemática que represente la...      0\n",
       "\n",
       "[10050 rows x 2 columns]"
      ]
     },
     "execution_count": 7,
     "metadata": {},
     "output_type": "execute_result"
    }
   ],
   "source": [
    "df1"
   ]
  },
  {
   "cell_type": "code",
   "execution_count": 8,
   "id": "ca28731b-2baf-45b7-8037-003a5e575423",
   "metadata": {},
   "outputs": [],
   "source": [
    "df2 = pd.read_csv('Datasets/02_suicidio_notacion.csv')"
   ]
  },
  {
   "cell_type": "code",
   "execution_count": 9,
   "id": "deb8e564-caca-451e-921c-36209804a7c3",
   "metadata": {},
   "outputs": [],
   "source": [
    "df2 = df2.drop('frase',axis=1)"
   ]
  },
  {
   "cell_type": "code",
   "execution_count": 10,
   "id": "29f79e93-33fc-4925-93f1-162b36978eab",
   "metadata": {},
   "outputs": [],
   "source": [
    "df2.rename(columns={\"tweet_clean\":\"Text\",\"suicidio\":\"Label\"},inplace=True)"
   ]
  },
  {
   "cell_type": "code",
   "execution_count": 11,
   "id": "973da230-20fc-4ebf-8631-ed55e8b90fbe",
   "metadata": {},
   "outputs": [],
   "source": [
    "df_1_2 = pd.concat([df1,df2])"
   ]
  },
  {
   "cell_type": "code",
   "execution_count": null,
   "id": "a2252be9-1347-43d1-aeb9-03ba5b683f4a",
   "metadata": {},
   "outputs": [],
   "source": [
    "df_1_2.to_csv()"
   ]
  }
 ],
 "metadata": {
  "kernelspec": {
   "display_name": "Python [conda env:fastai]",
   "language": "python",
   "name": "conda-env-fastai-py"
  },
  "language_info": {
   "codemirror_mode": {
    "name": "ipython",
    "version": 3
   },
   "file_extension": ".py",
   "mimetype": "text/x-python",
   "name": "python",
   "nbconvert_exporter": "python",
   "pygments_lexer": "ipython3",
   "version": "3.10.10"
  }
 },
 "nbformat": 4,
 "nbformat_minor": 5
}
