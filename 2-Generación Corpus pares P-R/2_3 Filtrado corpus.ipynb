{
 "cells": [
  {
   "cell_type": "markdown",
   "id": "4c55008c-5e76-4a54-8106-d4dfcc0a40d5",
   "metadata": {},
   "source": [
    "En este cuaderno filtraremos las respuestas ya generadas y procesadas."
   ]
  },
  {
   "cell_type": "markdown",
   "id": "6c3843d4-0575-4fa5-9877-7260100459e1",
   "metadata": {},
   "source": [
    "### 1) Filtramos los pares que no estén en el contexto deseado, esto lo hacemos con un modelo de clasificación que nos proporciona Jónathan Heras"
   ]
  },
  {
   "cell_type": "code",
   "execution_count": 15,
   "id": "b868942a-92ac-4240-b4e2-16bde69ced76",
   "metadata": {},
   "outputs": [
    {
     "data": {
      "application/vnd.jupyter.widget-view+json": {
       "model_id": "a20372cd3dbe451f8e2ffb00dd91c326",
       "version_major": 2,
       "version_minor": 0
      },
      "text/plain": [
       "Downloading (…)lve/main/config.json:   0%|          | 0.00/992 [00:00<?, ?B/s]"
      ]
     },
     "metadata": {},
     "output_type": "display_data"
    },
    {
     "data": {
      "application/vnd.jupyter.widget-view+json": {
       "model_id": "c434e1c08ea443e0b1f4b5fc8d09be63",
       "version_major": 2,
       "version_minor": 0
      },
      "text/plain": [
       "Downloading pytorch_model.bin:   0%|          | 0.00/499M [00:00<?, ?B/s]"
      ]
     },
     "metadata": {},
     "output_type": "display_data"
    },
    {
     "data": {
      "application/vnd.jupyter.widget-view+json": {
       "model_id": "10d360ebbdd3403db4bdd501346da95d",
       "version_major": 2,
       "version_minor": 0
      },
      "text/plain": [
       "Downloading (…)okenizer_config.json:   0%|          | 0.00/1.35k [00:00<?, ?B/s]"
      ]
     },
     "metadata": {},
     "output_type": "display_data"
    },
    {
     "data": {
      "application/vnd.jupyter.widget-view+json": {
       "model_id": "052f8479e34d4f8384817ba4b64816c0",
       "version_major": 2,
       "version_minor": 0
      },
      "text/plain": [
       "Downloading (…)olve/main/vocab.json:   0%|          | 0.00/851k [00:00<?, ?B/s]"
      ]
     },
     "metadata": {},
     "output_type": "display_data"
    },
    {
     "data": {
      "application/vnd.jupyter.widget-view+json": {
       "model_id": "9379dc27547d473285a39209cb43c2d3",
       "version_major": 2,
       "version_minor": 0
      },
      "text/plain": [
       "Downloading (…)olve/main/merges.txt:   0%|          | 0.00/509k [00:00<?, ?B/s]"
      ]
     },
     "metadata": {},
     "output_type": "display_data"
    },
    {
     "data": {
      "application/vnd.jupyter.widget-view+json": {
       "model_id": "c30fcef439d240e19fcb0d6de1f972de",
       "version_major": 2,
       "version_minor": 0
      },
      "text/plain": [
       "Downloading (…)/main/tokenizer.json:   0%|          | 0.00/2.21M [00:00<?, ?B/s]"
      ]
     },
     "metadata": {},
     "output_type": "display_data"
    },
    {
     "data": {
      "application/vnd.jupyter.widget-view+json": {
       "model_id": "c240ef9257d94b14bd90b7094c9e2cb5",
       "version_major": 2,
       "version_minor": 0
      },
      "text/plain": [
       "Downloading (…)cial_tokens_map.json:   0%|          | 0.00/957 [00:00<?, ?B/s]"
      ]
     },
     "metadata": {},
     "output_type": "display_data"
    },
    {
     "name": "stdout",
     "output_type": "stream",
     "text": [
      "[{'label': 'LABEL_0', 'score': 0.9999986886978149}, {'label': 'LABEL_1', 'score': 1.287733198296337e-06}, {'label': 'LABEL_3', 'score': 1.4278081827967526e-08}, {'label': 'LABEL_2', 'score': 1.3204688897872074e-08}]\n"
     ]
    }
   ],
   "source": [
    "from transformers import AutoModelForCausalLM, AutoTokenizer\n",
    "import torch\n",
    "from transformers import pipeline\n",
    "\n",
    "classifier = pipeline(task=\"text-classification\", model=\"joheras/bertin-roberta-base-spanish-spanish-suicide-intent\", top_k=None)\n",
    "\n",
    "sentences = [\"¿Cuál es la capital de Francia? La capital de Francia es París\"]\n",
    "\n",
    "model_outputs = classifier(sentences)\n",
    "print(model_outputs[0])"
   ]
  },
  {
   "cell_type": "code",
   "execution_count": 16,
   "id": "e39c21cf-17fa-4b47-9b82-f1c6dd4601fb",
   "metadata": {},
   "outputs": [
    {
     "name": "stdout",
     "output_type": "stream",
     "text": [
      "[{'label': 'LABEL_1', 'score': 0.9999984502792358}, {'label': 'LABEL_0', 'score': 1.5477806982744369e-06}, {'label': 'LABEL_3', 'score': 3.3319256687036614e-08}, {'label': 'LABEL_2', 'score': 3.128896608473042e-08}]\n"
     ]
    }
   ],
   "source": [
    "sentences = [\"¿Qué es el suicidio? Es el acto de quitarse la vida voluntariamente.\"]\n",
    "\n",
    "model_outputs = classifier(sentences)\n",
    "print(model_outputs[0])"
   ]
  },
  {
   "cell_type": "code",
   "execution_count": 20,
   "id": "91883537-5af8-4b5c-871b-8d3e42224634",
   "metadata": {},
   "outputs": [
    {
     "name": "stdout",
     "output_type": "stream",
     "text": [
      "[{'label': 'LABEL_1', 'score': 0.9999980926513672}, {'label': 'LABEL_0', 'score': 1.863220973064017e-06}, {'label': 'LABEL_3', 'score': 3.1781910436734506e-09}, {'label': 'LABEL_2', 'score': 2.8164839349642534e-09}]\n"
     ]
    }
   ],
   "source": [
    "sentences = [\"Me quiero suicidar, ¿cómo puedo hacerlo? Si estás pensando en suicidarte no seas gaznápido y ve a buscar ayuda profesional.\"]\n",
    "\n",
    "model_outputs = classifier(sentences)\n",
    "print(model_outputs[0])"
   ]
  },
  {
   "cell_type": "markdown",
   "id": "ac82b2f3-dc32-4764-aa20-b96ac25b29a0",
   "metadata": {},
   "source": [
    "Creamos las funciones necesarias para realizar el filtrado"
   ]
  },
  {
   "cell_type": "code",
   "execution_count": 69,
   "id": "59d539d3-9e36-442e-a4b4-9d474f14bf45",
   "metadata": {},
   "outputs": [],
   "source": [
    "from transformers import pipeline\n",
    "import pandas as pd\n",
    "\n",
    "def juntar_pares(corpus, columnas):\n",
    "    datos = corpus[columnas]\n",
    "    pares = []\n",
    "    for index, row in datos.iterrows():\n",
    "        # Juntamos en una sola cadena la pregunta y la respuesta\n",
    "        par = []\n",
    "        for elem in row:\n",
    "            par.append(elem)\n",
    "        pares.append((index, par))\n",
    "    \n",
    "    return pares\n",
    "\n",
    "def es_suicidio(par, classifier):\n",
    "    frase = str(par[0]) + \" \" + str(par[1])\n",
    "    model_outputs = classifier(frase)[0]\n",
    "    return max(model_outputs, key=lambda x:x['score'])[\"label\"]\n",
    "\n",
    "def cargar_modelo_clasificacion(nombre):\n",
    "    return pipeline(task=\"text-classification\", model=nombre, top_k=None, max_length=512, truncation=True)\n",
    "\n",
    "def filtrar_contexto(pares):\n",
    "    a_eliminar = []\n",
    "    classifier = cargar_modelo_clasificacion(\"joheras/bertin-roberta-base-spanish-spanish-suicide-intent\")\n",
    "    \n",
    "    for index, par in pares:\n",
    "        print(f\"Fase {index} de {len(pares)}\", end=\"\\r\")\n",
    "        if es_suicidio(par, classifier) == 'LABEL_0':\n",
    "            a_eliminar.append(index)\n",
    "\n",
    "    return a_eliminar"
   ]
  },
  {
   "cell_type": "code",
   "execution_count": 35,
   "id": "f595eb07-2951-4c0b-870f-247a7aa6653a",
   "metadata": {},
   "outputs": [
    {
     "data": {
      "text/plain": [
       "'LABEL_1'"
      ]
     },
     "execution_count": 35,
     "metadata": {},
     "output_type": "execute_result"
    }
   ],
   "source": [
    "es_suicidio((\"¿Qué es el suicidio?\", \"Es el acto de quitarse la vida voluntariamente.\"), classifier)"
   ]
  },
  {
   "cell_type": "code",
   "execution_count": 98,
   "id": "30f9e95c-fa52-4ba9-a7df-3ca02c9afbed",
   "metadata": {},
   "outputs": [
    {
     "name": "stdout",
     "output_type": "stream",
     "text": [
      "Fase 13358 de 13359\r"
     ]
    }
   ],
   "source": [
    "corpus = pd.read_csv(\"Corpus.csv\", lineterminator='\\n')\n",
    "\n",
    "eliminar = filtrar_contexto(juntar_pares(corpus, [\"Pregunta\", \"Respuesta\"]))"
   ]
  },
  {
   "cell_type": "code",
   "execution_count": 99,
   "id": "a8248b79-9571-432c-bab5-aa8d37f5d9b6",
   "metadata": {},
   "outputs": [],
   "source": [
    "corpus.drop(corpus.index[eliminar], inplace=True)"
   ]
  },
  {
   "cell_type": "code",
   "execution_count": 100,
   "id": "fec204e8-fe0c-4fea-9e08-813b2ae69bed",
   "metadata": {},
   "outputs": [
    {
     "data": {
      "text/plain": [
       "(5219, 5)"
      ]
     },
     "execution_count": 100,
     "metadata": {},
     "output_type": "execute_result"
    }
   ],
   "source": [
    "corpus.shape"
   ]
  },
  {
   "cell_type": "code",
   "execution_count": 101,
   "id": "e7c906d8-9c2f-4545-a0f3-0c09bb85f147",
   "metadata": {},
   "outputs": [],
   "source": [
    "corpus.to_csv(\"Corpus.csv\", sep=',', index=False)"
   ]
  },
  {
   "cell_type": "markdown",
   "id": "9f548bb9-893c-4788-af24-0b1711386427",
   "metadata": {},
   "source": [
    "Terminamos este filtrado eliminando respuestas preguntas que no tengan más de 10 caracteres."
   ]
  },
  {
   "cell_type": "code",
   "execution_count": 104,
   "id": "f151d823-8e6f-4424-9180-66f5ddd1e8f6",
   "metadata": {},
   "outputs": [],
   "source": [
    "def filtrar_preguntas_muy_cortas(corpus):\n",
    "    a_eliminar = []\n",
    "    \n",
    "    for index, elem in corpus.iterrows():\n",
    "        print(f\"Fase {index} de {corpus.shape[0]}\", end=\"\\r\")\n",
    "        if len(elem[\"Respuesta\"]) < 10:\n",
    "            a_eliminar.append(index)\n",
    "\n",
    "    return a_eliminar"
   ]
  },
  {
   "cell_type": "code",
   "execution_count": 106,
   "id": "6ab1c82c-5ffb-450f-998c-d9fcb1cc2bf5",
   "metadata": {},
   "outputs": [],
   "source": [
    "corpus = corpus.reset_index(drop=True)"
   ]
  },
  {
   "cell_type": "code",
   "execution_count": 107,
   "id": "0dde1624-54d5-457e-b2f9-9a638771b100",
   "metadata": {},
   "outputs": [
    {
     "name": "stdout",
     "output_type": "stream",
     "text": [
      "Fase 5218 de 5219\r"
     ]
    }
   ],
   "source": [
    "a_eliminar = filtrar_preguntas_muy_cortas(corpus)"
   ]
  },
  {
   "cell_type": "code",
   "execution_count": 108,
   "id": "63492768-ffdd-4db8-b656-a0fd6a0986f2",
   "metadata": {},
   "outputs": [],
   "source": [
    "corpus.drop(corpus.index[a_eliminar], inplace=True)"
   ]
  },
  {
   "cell_type": "code",
   "execution_count": 109,
   "id": "2fedc340-74f9-492f-88b2-595ac2f96bea",
   "metadata": {},
   "outputs": [
    {
     "data": {
      "text/plain": [
       "(4903, 5)"
      ]
     },
     "execution_count": 109,
     "metadata": {},
     "output_type": "execute_result"
    }
   ],
   "source": [
    "corpus.shape"
   ]
  },
  {
   "cell_type": "code",
   "execution_count": 110,
   "id": "f4225955-eeb7-4c63-ab56-fee7caeaafd8",
   "metadata": {},
   "outputs": [],
   "source": [
    "corpus.to_csv(\"Corpus.csv\", sep=',', index=False)"
   ]
  },
  {
   "cell_type": "markdown",
   "id": "d222d695-58ae-43fe-8bc3-1ed022f926b8",
   "metadata": {},
   "source": [
    "### 2) Eliminamos los pares similares, no las preguntas o respuestas individualmente sino los pares en su conjunto."
   ]
  },
  {
   "cell_type": "code",
   "execution_count": 3,
   "id": "6d69321c-a164-4003-bdaa-0ea784e64a76",
   "metadata": {},
   "outputs": [],
   "source": [
    "import pandas as pd\n",
    "from sentence_transformers import util\n",
    "from evaluate import load\n",
    "import numpy as np\n",
    "from sentence_transformers import util\n",
    "import spacy\n",
    "\n",
    "def juntar_pares(corpus, columnas):\n",
    "    datos = corpus[columnas]\n",
    "    pares = []\n",
    "    for index, row in datos.iterrows():\n",
    "        # Juntamos en una sola cadena la pregunta y la respuesta\n",
    "        par = []\n",
    "        for elem in row:\n",
    "            par.append(elem)\n",
    "        pares.append((index, par))\n",
    "    \n",
    "    return pares\n",
    "\n",
    "def calcular_similitud(par1, par2, modelo):\n",
    "    # Utilizamos el modelo bertscore para calcular la similitud de dos frases\n",
    "    return modelo.compute(predictions=par1, references=par2, lang=\"es\")[\"f1\"]\n",
    "\n",
    "def lista_similitud(referencia, lista, modelo, fase):\n",
    "    resultado = []\n",
    "    for i, x in enumerate(lista):\n",
    "        print(f\"Fase {i} de {len(lista)} parte {fase}\", end=\"\\r\")\n",
    "        resultado.append((x[0],np.mean(calcular_similitud(referencia, x[1], modelo))))\n",
    "    return resultado\n",
    "\n",
    "def calcular_similitud_spacy(par1, par2, modelo):\n",
    "    doc1 = modelo(' '.join(par1))\n",
    "    doc2 = modelo(' '.join(par2))\n",
    "    return doc1.similarity(doc2)\n",
    "\n",
    "def diferencia_coseno(par1, par2):\n",
    "    return util.pytorch_cos_sim(prueba, prueba)[0][0].item()\n",
    "\n",
    "def filtrar_similares(pares):\n",
    "    a_eliminar = []\n",
    "    modelo = load(\"bertscore\", device=\"cuda:0\") # Usando bert score\n",
    "    #modelo = spacy.load(\"es_core_news_sm\") # Usando spacy\n",
    "    restantes = pares.copy()\n",
    "    \n",
    "    for index, par in pares:\n",
    "        if index not in a_eliminar and len(restantes)>1:\n",
    "            distancias = lista_similitud(par, restantes, modelo, index)\n",
    "            #distancias = [np.mean(calcular_similitud(par, x[0], modelo)) for x in restantes]\n",
    "            #distancias = [np.mean(calcular_similitud_spacy(par, x[0], modelo)) for x in restantes]\n",
    "            for i, elem in distancias:\n",
    "                if index != i and elem > 0.8:\n",
    "                    a_eliminar.append(i)\n",
    "                    restantes = [x for x in restantes if x[0] != i]\n",
    "            restantes = [x for x in restantes if x[0] != index]\n",
    "            with open(\"Checkpoint.txt\", \"w\") as output:\n",
    "                output.write(str(a_eliminar))\n",
    "    return a_eliminar"
   ]
  },
  {
   "cell_type": "markdown",
   "id": "4571b85f-4d1f-4d3f-853b-dddf90dd71b6",
   "metadata": {},
   "source": [
    "Pruebas"
   ]
  },
  {
   "cell_type": "code",
   "execution_count": 17,
   "id": "10c5f9f8-40ec-435c-857c-dda34c9cfbbe",
   "metadata": {},
   "outputs": [],
   "source": [
    "from sentence_transformers import SentenceTransformer\n",
    "\n",
    "pruebas = pd.DataFrame([[\"Hola me llaman Palbito\", \"y Ascorbe\"], [\"Hola me llamo pablo\", \"Ascorbe\"], [\"Hasta luego no me llamo\", \"de ningún modo\"]], columns=['A', 'B'])\n",
    "\n",
    "pares = juntar_pares(pruebas, [\"A\", \"B\"])"
   ]
  },
  {
   "cell_type": "code",
   "execution_count": 18,
   "id": "083cb61c-5bbd-47e0-a94a-355e46b9c5f4",
   "metadata": {},
   "outputs": [
    {
     "data": {
      "text/plain": [
       "[(0, ['Hola me llaman Palbito', 'y Ascorbe']),\n",
       " (1, ['Hola me llamo pablo', 'Ascorbe']),\n",
       " (2, ['Hasta luego no me llamo', 'de ningún modo'])]"
      ]
     },
     "execution_count": 18,
     "metadata": {},
     "output_type": "execute_result"
    }
   ],
   "source": [
    "pares"
   ]
  },
  {
   "cell_type": "code",
   "execution_count": 36,
   "id": "fbf10ac3-acb8-4c8f-b45a-9b80b6c0dce9",
   "metadata": {},
   "outputs": [
    {
     "name": "stdout",
     "output_type": "stream",
     "text": [
      "6.19 s ± 195 ms per loop (mean ± std. dev. of 7 runs, 1 loop each)\n"
     ]
    }
   ],
   "source": [
    "%%timeit\n",
    "filtrar_similares(pares)"
   ]
  },
  {
   "cell_type": "markdown",
   "id": "1dcb8685-024e-4490-9674-dddfb2e7d28a",
   "metadata": {},
   "source": [
    "Calculamos sobre el corpus"
   ]
  },
  {
   "cell_type": "code",
   "execution_count": null,
   "id": "945f6b89-22f3-47cd-ae10-66ef824f9817",
   "metadata": {},
   "outputs": [
    {
     "name": "stdout",
     "output_type": "stream",
     "text": [
      "Fase 4602 de 18322 parte 887\r"
     ]
    }
   ],
   "source": [
    "corpus = pd.read_csv(\"Corpus.csv\", lineterminator='\\n')\n",
    "\n",
    "eliminar = filtrar_similares(juntar_pares(corpus, [\"Pregunta\", \"Respuesta\"]))\n",
    "eliminar"
   ]
  },
  {
   "cell_type": "code",
   "execution_count": null,
   "id": "a1c82c26-29ab-4b32-bb78-c0954a935a36",
   "metadata": {},
   "outputs": [],
   "source": [
    "with open(\"Checkpoint.txt\", 'w') as file:\n",
    "    file.write(eliminar)"
   ]
  },
  {
   "cell_type": "code",
   "execution_count": 9,
   "id": "0051f4e2-7a75-4ffc-82fe-3b716800651f",
   "metadata": {},
   "outputs": [],
   "source": [
    "from pathlib import Path\n",
    "import json\n",
    "\n",
    "eliminar = Path(\"Checkpoint.txt\").read_text()\n",
    "eliminar = json.loads(eliminar)"
   ]
  },
  {
   "cell_type": "code",
   "execution_count": 11,
   "id": "4e404bb8-2d6a-455e-9a71-cf5d5de4895c",
   "metadata": {},
   "outputs": [
    {
     "data": {
      "text/plain": [
       "(22920, 5)"
      ]
     },
     "execution_count": 11,
     "metadata": {},
     "output_type": "execute_result"
    }
   ],
   "source": [
    "corpus.shape"
   ]
  },
  {
   "cell_type": "code",
   "execution_count": 12,
   "id": "453ac3b1-a5fc-4572-93ce-6244642d63ca",
   "metadata": {},
   "outputs": [],
   "source": [
    "corpus.drop(corpus.index[eliminar], inplace=True)"
   ]
  },
  {
   "cell_type": "code",
   "execution_count": 13,
   "id": "e6b4d52e-3efb-4ddc-ad6c-cce11091c8d7",
   "metadata": {},
   "outputs": [
    {
     "data": {
      "text/plain": [
       "(13359, 5)"
      ]
     },
     "execution_count": 13,
     "metadata": {},
     "output_type": "execute_result"
    }
   ],
   "source": [
    "corpus.shape"
   ]
  },
  {
   "cell_type": "code",
   "execution_count": 14,
   "id": "a705e986-529c-498a-9395-f8efcf8198ec",
   "metadata": {},
   "outputs": [],
   "source": [
    "corpus.to_csv(\"Corpus.csv\", sep=',', index=False)"
   ]
  },
  {
   "cell_type": "markdown",
   "id": "c5572719-a265-4f24-b41f-f14cfc8dc29a",
   "metadata": {},
   "source": [
    "### 3) Filtramos los resultados en base al contexto, para ello, aplicamos clústerización con DBSCAN que está pensada para encontrar espurios."
   ]
  },
  {
   "cell_type": "code",
   "execution_count": 78,
   "id": "0752e7bf-321d-464c-8c85-0e9e763eef59",
   "metadata": {},
   "outputs": [],
   "source": [
    "import pandas as pd\n",
    "from sklearn.cluster import DBSCAN\n",
    "from sklearn.decomposition import PCA\n",
    "import plotly.express as px\n",
    "import plotly.io as pio\n",
    "from sentence_transformers import SentenceTransformer\n",
    "\n",
    "def cargar_modelo_embedding(nombre):\n",
    "     return SentenceTransformer(nombre)\n",
    "    \n",
    "def cargar_corpus(ruta):\n",
    "    return pd.read_csv(ruta, lineterminator='\\n')\n",
    "\n",
    "def calcular_embeddings(corpus, modelo, columnas=None):\n",
    "    if columnas:\n",
    "        datos = corpus[columnas]\n",
    "    else:\n",
    "        datos = corpus\n",
    "    \n",
    "    embs = []\n",
    "    for index, row in datos.iterrows():\n",
    "        print(f\"Fase {index} de {datos.shape[0]}\", end=\"\\r\")\n",
    "        # Juntamos en una sola cadena todos los campos\n",
    "        cad = []\n",
    "        for elem in row:\n",
    "            cad.append(elem)\n",
    "        emb = modelo.encode(cad)[0]\n",
    "        embs.append(emb)\n",
    "    \n",
    "    return embs\n",
    "\n",
    "def encontrar_clusteres(embs, metrica = \"cosine\", eps=0.5):\n",
    "    # Calculamos la clasterización\n",
    "    return DBSCAN(metric=metrica, eps=eps).fit(embs)\n",
    "    \n",
    "def proyectar_puntos(embs, dimension=2):\n",
    "    # Proyectamos nuestros embeddings en un espacio de menor dimensión para poder visualizarlos\n",
    "    return PCA(n_components=dimension).fit_transform(embs)\n",
    "\n",
    "def mostrar_espurios(texto, clusteres, proyeccion):\n",
    "    # Creamos un dataframe auxiliar con los datos a proyectar\n",
    "    aux = pd.DataFrame()\n",
    "    aux[\"y\"] = clusteres.labels_\n",
    "    aux[\"comp-1\"] = proyeccion[:,0]\n",
    "    aux[\"comp-2\"] = proyeccion[:,1]\n",
    "    aux[\"text\"] = texto\n",
    "    \n",
    "    # Generamos el gráfico\n",
    "    pio.renderers.default = 'iframe'\n",
    "    fig = px.scatter(\n",
    "        aux, x='comp-1', y='comp-2',\n",
    "        color='y',\n",
    "        hover_data='text')\n",
    "    fig.show()\n",
    "\n",
    "def limpiar_espurios(corpus, clusteres, grupo):\n",
    "    # El grupo es el que queremos mantener, será el grupo principal y el resto los eliminaremos\n",
    "    indices_elim = clusteres.labels_ == grupo\n",
    "    corpus = corpus.loc[indices_elim]\n",
    "    return corpus.reset_index(drop=True)\n",
    "\n",
    "def limpiar_grupo(corpus, clusteres, grupo):\n",
    "    # El grupo es el que queremos eliminar ya que son preguntas redundantes y hay muchas\n",
    "    indices_elim = clusteres.labels_ != grupo\n",
    "    corpus = corpus.loc[indices_elim]\n",
    "    return corpus.reset_index(drop=True)"
   ]
  },
  {
   "cell_type": "code",
   "execution_count": 2,
   "id": "8243416c-78f3-4e9e-b3ec-f2976dfd9b20",
   "metadata": {},
   "outputs": [
    {
     "name": "stdout",
     "output_type": "stream",
     "text": [
      "Fase 22919 de 22920\r"
     ]
    }
   ],
   "source": [
    "corpus = cargar_corpus(\"Corpus preguntas.csv\")\n",
    "embs = calcular_embeddings(corpus, cargar_modelo_embedding('hiiamsid/sentence_similarity_spanish_es'))"
   ]
  },
  {
   "cell_type": "code",
   "execution_count": 51,
   "id": "386b090a-4c30-432a-aaca-8a434f9db18c",
   "metadata": {},
   "outputs": [
    {
     "data": {
      "text/html": [
       "<div>\n",
       "<style scoped>\n",
       "    .dataframe tbody tr th:only-of-type {\n",
       "        vertical-align: middle;\n",
       "    }\n",
       "\n",
       "    .dataframe tbody tr th {\n",
       "        vertical-align: top;\n",
       "    }\n",
       "\n",
       "    .dataframe thead th {\n",
       "        text-align: right;\n",
       "    }\n",
       "</style>\n",
       "<table border=\"1\" class=\"dataframe\">\n",
       "  <thead>\n",
       "    <tr style=\"text-align: right;\">\n",
       "      <th></th>\n",
       "      <th>0</th>\n",
       "      <th>1</th>\n",
       "      <th>2</th>\n",
       "      <th>3</th>\n",
       "      <th>4</th>\n",
       "      <th>5</th>\n",
       "      <th>6</th>\n",
       "      <th>7</th>\n",
       "      <th>8</th>\n",
       "      <th>9</th>\n",
       "      <th>...</th>\n",
       "      <th>758</th>\n",
       "      <th>759</th>\n",
       "      <th>760</th>\n",
       "      <th>761</th>\n",
       "      <th>762</th>\n",
       "      <th>763</th>\n",
       "      <th>764</th>\n",
       "      <th>765</th>\n",
       "      <th>766</th>\n",
       "      <th>767</th>\n",
       "    </tr>\n",
       "  </thead>\n",
       "  <tbody>\n",
       "    <tr>\n",
       "      <th>0</th>\n",
       "      <td>-1.408472</td>\n",
       "      <td>-0.284516</td>\n",
       "      <td>-0.988199</td>\n",
       "      <td>-0.991739</td>\n",
       "      <td>-0.688388</td>\n",
       "      <td>-0.583975</td>\n",
       "      <td>-0.010682</td>\n",
       "      <td>-0.782642</td>\n",
       "      <td>0.815200</td>\n",
       "      <td>0.058693</td>\n",
       "      <td>...</td>\n",
       "      <td>-0.307022</td>\n",
       "      <td>-0.671821</td>\n",
       "      <td>0.512422</td>\n",
       "      <td>-0.173581</td>\n",
       "      <td>0.121643</td>\n",
       "      <td>-1.160892</td>\n",
       "      <td>0.168453</td>\n",
       "      <td>-0.235679</td>\n",
       "      <td>0.560121</td>\n",
       "      <td>-0.002953</td>\n",
       "    </tr>\n",
       "    <tr>\n",
       "      <th>1</th>\n",
       "      <td>-1.069760</td>\n",
       "      <td>-0.659508</td>\n",
       "      <td>-0.800598</td>\n",
       "      <td>-1.181654</td>\n",
       "      <td>-0.515965</td>\n",
       "      <td>-0.837448</td>\n",
       "      <td>0.418703</td>\n",
       "      <td>-1.308217</td>\n",
       "      <td>0.126495</td>\n",
       "      <td>-0.394154</td>\n",
       "      <td>...</td>\n",
       "      <td>0.936300</td>\n",
       "      <td>-0.620395</td>\n",
       "      <td>0.337323</td>\n",
       "      <td>0.235471</td>\n",
       "      <td>1.315079</td>\n",
       "      <td>-1.661706</td>\n",
       "      <td>-0.706733</td>\n",
       "      <td>0.136573</td>\n",
       "      <td>0.543989</td>\n",
       "      <td>0.514949</td>\n",
       "    </tr>\n",
       "    <tr>\n",
       "      <th>2</th>\n",
       "      <td>-0.333933</td>\n",
       "      <td>-0.150734</td>\n",
       "      <td>0.168753</td>\n",
       "      <td>-0.742309</td>\n",
       "      <td>-0.459517</td>\n",
       "      <td>-0.382396</td>\n",
       "      <td>0.058969</td>\n",
       "      <td>-0.195954</td>\n",
       "      <td>0.487164</td>\n",
       "      <td>-0.474504</td>\n",
       "      <td>...</td>\n",
       "      <td>1.074201</td>\n",
       "      <td>-1.140938</td>\n",
       "      <td>1.145919</td>\n",
       "      <td>-1.200268</td>\n",
       "      <td>0.073237</td>\n",
       "      <td>0.355085</td>\n",
       "      <td>0.005564</td>\n",
       "      <td>0.110881</td>\n",
       "      <td>1.224088</td>\n",
       "      <td>-0.557225</td>\n",
       "    </tr>\n",
       "    <tr>\n",
       "      <th>3</th>\n",
       "      <td>-0.691843</td>\n",
       "      <td>-0.970027</td>\n",
       "      <td>0.987329</td>\n",
       "      <td>-0.628927</td>\n",
       "      <td>-1.122727</td>\n",
       "      <td>0.084831</td>\n",
       "      <td>0.063809</td>\n",
       "      <td>0.829716</td>\n",
       "      <td>0.313569</td>\n",
       "      <td>-0.135334</td>\n",
       "      <td>...</td>\n",
       "      <td>-0.034081</td>\n",
       "      <td>-0.241485</td>\n",
       "      <td>0.530372</td>\n",
       "      <td>-0.723190</td>\n",
       "      <td>-0.512412</td>\n",
       "      <td>0.532074</td>\n",
       "      <td>0.150592</td>\n",
       "      <td>0.262125</td>\n",
       "      <td>0.909787</td>\n",
       "      <td>-0.612894</td>\n",
       "    </tr>\n",
       "    <tr>\n",
       "      <th>4</th>\n",
       "      <td>-0.172960</td>\n",
       "      <td>0.744163</td>\n",
       "      <td>0.876301</td>\n",
       "      <td>-0.204251</td>\n",
       "      <td>0.195257</td>\n",
       "      <td>-0.310812</td>\n",
       "      <td>0.091865</td>\n",
       "      <td>0.260345</td>\n",
       "      <td>-0.705332</td>\n",
       "      <td>0.397240</td>\n",
       "      <td>...</td>\n",
       "      <td>-0.102905</td>\n",
       "      <td>-0.075649</td>\n",
       "      <td>0.283769</td>\n",
       "      <td>0.016766</td>\n",
       "      <td>0.104198</td>\n",
       "      <td>0.419002</td>\n",
       "      <td>0.004514</td>\n",
       "      <td>-1.726378</td>\n",
       "      <td>0.560395</td>\n",
       "      <td>0.177829</td>\n",
       "    </tr>\n",
       "  </tbody>\n",
       "</table>\n",
       "<p>5 rows × 768 columns</p>\n",
       "</div>"
      ],
      "text/plain": [
       "        0         1         2         3         4         5         6    \\\n",
       "0 -1.408472 -0.284516 -0.988199 -0.991739 -0.688388 -0.583975 -0.010682   \n",
       "1 -1.069760 -0.659508 -0.800598 -1.181654 -0.515965 -0.837448  0.418703   \n",
       "2 -0.333933 -0.150734  0.168753 -0.742309 -0.459517 -0.382396  0.058969   \n",
       "3 -0.691843 -0.970027  0.987329 -0.628927 -1.122727  0.084831  0.063809   \n",
       "4 -0.172960  0.744163  0.876301 -0.204251  0.195257 -0.310812  0.091865   \n",
       "\n",
       "        7         8         9    ...       758       759       760       761  \\\n",
       "0 -0.782642  0.815200  0.058693  ... -0.307022 -0.671821  0.512422 -0.173581   \n",
       "1 -1.308217  0.126495 -0.394154  ...  0.936300 -0.620395  0.337323  0.235471   \n",
       "2 -0.195954  0.487164 -0.474504  ...  1.074201 -1.140938  1.145919 -1.200268   \n",
       "3  0.829716  0.313569 -0.135334  ... -0.034081 -0.241485  0.530372 -0.723190   \n",
       "4  0.260345 -0.705332  0.397240  ... -0.102905 -0.075649  0.283769  0.016766   \n",
       "\n",
       "        762       763       764       765       766       767  \n",
       "0  0.121643 -1.160892  0.168453 -0.235679  0.560121 -0.002953  \n",
       "1  1.315079 -1.661706 -0.706733  0.136573  0.543989  0.514949  \n",
       "2  0.073237  0.355085  0.005564  0.110881  1.224088 -0.557225  \n",
       "3 -0.512412  0.532074  0.150592  0.262125  0.909787 -0.612894  \n",
       "4  0.104198  0.419002  0.004514 -1.726378  0.560395  0.177829  \n",
       "\n",
       "[5 rows x 768 columns]"
      ]
     },
     "execution_count": 51,
     "metadata": {},
     "output_type": "execute_result"
    }
   ],
   "source": [
    "df_emb = pd.DataFrame(embs)\n",
    "df_emb.head()"
   ]
  },
  {
   "cell_type": "code",
   "execution_count": 71,
   "id": "54fbb6a9-d949-4fd8-8de6-50b70d46ac94",
   "metadata": {},
   "outputs": [],
   "source": [
    "clusteres = encontrar_clusteres(df_emb, eps=0.1)"
   ]
  },
  {
   "cell_type": "code",
   "execution_count": 69,
   "id": "33366f2e-a159-41bd-8216-e1ec9b4daaab",
   "metadata": {},
   "outputs": [],
   "source": [
    "proyeccion = proyectar_puntos(df_emb)"
   ]
  },
  {
   "cell_type": "code",
   "execution_count": 72,
   "id": "3678e6e8-c65a-41ce-9105-2b1c250b9963",
   "metadata": {},
   "outputs": [
    {
     "data": {
      "text/html": [
       "<iframe\n",
       "    scrolling=\"no\"\n",
       "    width=\"100%\"\n",
       "    height=\"545px\"\n",
       "    src=\"iframe_figures/figure_72.html\"\n",
       "    frameborder=\"0\"\n",
       "    allowfullscreen\n",
       "></iframe>\n"
      ]
     },
     "metadata": {},
     "output_type": "display_data"
    }
   ],
   "source": [
    "mostrar_espurios(corpus[\"Pregunta\"], clusteres, proyeccion)"
   ]
  },
  {
   "cell_type": "code",
   "execution_count": 73,
   "id": "cc1bf8d1-17bf-4909-8fae-3b8704894eb9",
   "metadata": {},
   "outputs": [
    {
     "data": {
      "text/html": [
       "<div>\n",
       "<style scoped>\n",
       "    .dataframe tbody tr th:only-of-type {\n",
       "        vertical-align: middle;\n",
       "    }\n",
       "\n",
       "    .dataframe tbody tr th {\n",
       "        vertical-align: top;\n",
       "    }\n",
       "\n",
       "    .dataframe thead th {\n",
       "        text-align: right;\n",
       "    }\n",
       "</style>\n",
       "<table border=\"1\" class=\"dataframe\">\n",
       "  <thead>\n",
       "    <tr style=\"text-align: right;\">\n",
       "      <th></th>\n",
       "      <th>0</th>\n",
       "      <th>1</th>\n",
       "      <th>2</th>\n",
       "      <th>3</th>\n",
       "      <th>4</th>\n",
       "      <th>5</th>\n",
       "      <th>6</th>\n",
       "      <th>7</th>\n",
       "      <th>8</th>\n",
       "      <th>9</th>\n",
       "      <th>...</th>\n",
       "      <th>760</th>\n",
       "      <th>761</th>\n",
       "      <th>762</th>\n",
       "      <th>763</th>\n",
       "      <th>764</th>\n",
       "      <th>765</th>\n",
       "      <th>766</th>\n",
       "      <th>767</th>\n",
       "      <th>Pregunta</th>\n",
       "      <th>Grupo</th>\n",
       "    </tr>\n",
       "  </thead>\n",
       "  <tbody>\n",
       "    <tr>\n",
       "      <th>0</th>\n",
       "      <td>-1.408472</td>\n",
       "      <td>-0.284516</td>\n",
       "      <td>-0.988199</td>\n",
       "      <td>-0.991739</td>\n",
       "      <td>-0.688388</td>\n",
       "      <td>-0.583975</td>\n",
       "      <td>-0.010682</td>\n",
       "      <td>-0.782642</td>\n",
       "      <td>0.815200</td>\n",
       "      <td>0.058693</td>\n",
       "      <td>...</td>\n",
       "      <td>0.512422</td>\n",
       "      <td>-0.173581</td>\n",
       "      <td>0.121643</td>\n",
       "      <td>-1.160892</td>\n",
       "      <td>0.168453</td>\n",
       "      <td>-0.235679</td>\n",
       "      <td>0.560121</td>\n",
       "      <td>-0.002953</td>\n",
       "      <td>¿Cuál es el propósito de la protección al menor?</td>\n",
       "      <td>-1</td>\n",
       "    </tr>\n",
       "    <tr>\n",
       "      <th>1</th>\n",
       "      <td>-1.069760</td>\n",
       "      <td>-0.659508</td>\n",
       "      <td>-0.800598</td>\n",
       "      <td>-1.181654</td>\n",
       "      <td>-0.515965</td>\n",
       "      <td>-0.837448</td>\n",
       "      <td>0.418703</td>\n",
       "      <td>-1.308217</td>\n",
       "      <td>0.126495</td>\n",
       "      <td>-0.394154</td>\n",
       "      <td>...</td>\n",
       "      <td>0.337323</td>\n",
       "      <td>0.235471</td>\n",
       "      <td>1.315079</td>\n",
       "      <td>-1.661706</td>\n",
       "      <td>-0.706733</td>\n",
       "      <td>0.136573</td>\n",
       "      <td>0.543989</td>\n",
       "      <td>0.514949</td>\n",
       "      <td>¿Qué medidas puede tomar el médico para ayudar...</td>\n",
       "      <td>-1</td>\n",
       "    </tr>\n",
       "    <tr>\n",
       "      <th>2</th>\n",
       "      <td>-0.333933</td>\n",
       "      <td>-0.150734</td>\n",
       "      <td>0.168753</td>\n",
       "      <td>-0.742309</td>\n",
       "      <td>-0.459517</td>\n",
       "      <td>-0.382396</td>\n",
       "      <td>0.058969</td>\n",
       "      <td>-0.195954</td>\n",
       "      <td>0.487164</td>\n",
       "      <td>-0.474504</td>\n",
       "      <td>...</td>\n",
       "      <td>1.145919</td>\n",
       "      <td>-1.200268</td>\n",
       "      <td>0.073237</td>\n",
       "      <td>0.355085</td>\n",
       "      <td>0.005564</td>\n",
       "      <td>0.110881</td>\n",
       "      <td>1.224088</td>\n",
       "      <td>-0.557225</td>\n",
       "      <td>¿Cuál es el propósito de la cláusula de concie...</td>\n",
       "      <td>-1</td>\n",
       "    </tr>\n",
       "    <tr>\n",
       "      <th>3</th>\n",
       "      <td>-0.691843</td>\n",
       "      <td>-0.970027</td>\n",
       "      <td>0.987329</td>\n",
       "      <td>-0.628927</td>\n",
       "      <td>-1.122727</td>\n",
       "      <td>0.084831</td>\n",
       "      <td>0.063809</td>\n",
       "      <td>0.829716</td>\n",
       "      <td>0.313569</td>\n",
       "      <td>-0.135334</td>\n",
       "      <td>...</td>\n",
       "      <td>0.530372</td>\n",
       "      <td>-0.723190</td>\n",
       "      <td>-0.512412</td>\n",
       "      <td>0.532074</td>\n",
       "      <td>0.150592</td>\n",
       "      <td>0.262125</td>\n",
       "      <td>0.909787</td>\n",
       "      <td>-0.612894</td>\n",
       "      <td>¿Cuál es el derecho a la intimidad?</td>\n",
       "      <td>-1</td>\n",
       "    </tr>\n",
       "    <tr>\n",
       "      <th>4</th>\n",
       "      <td>-0.172960</td>\n",
       "      <td>0.744163</td>\n",
       "      <td>0.876301</td>\n",
       "      <td>-0.204251</td>\n",
       "      <td>0.195257</td>\n",
       "      <td>-0.310812</td>\n",
       "      <td>0.091865</td>\n",
       "      <td>0.260345</td>\n",
       "      <td>-0.705332</td>\n",
       "      <td>0.397240</td>\n",
       "      <td>...</td>\n",
       "      <td>0.283769</td>\n",
       "      <td>0.016766</td>\n",
       "      <td>0.104198</td>\n",
       "      <td>0.419002</td>\n",
       "      <td>0.004514</td>\n",
       "      <td>-1.726378</td>\n",
       "      <td>0.560395</td>\n",
       "      <td>0.177829</td>\n",
       "      <td>¿Cuál es la Constitución de España?</td>\n",
       "      <td>-1</td>\n",
       "    </tr>\n",
       "  </tbody>\n",
       "</table>\n",
       "<p>5 rows × 770 columns</p>\n",
       "</div>"
      ],
      "text/plain": [
       "          0         1         2         3         4         5         6  \\\n",
       "0 -1.408472 -0.284516 -0.988199 -0.991739 -0.688388 -0.583975 -0.010682   \n",
       "1 -1.069760 -0.659508 -0.800598 -1.181654 -0.515965 -0.837448  0.418703   \n",
       "2 -0.333933 -0.150734  0.168753 -0.742309 -0.459517 -0.382396  0.058969   \n",
       "3 -0.691843 -0.970027  0.987329 -0.628927 -1.122727  0.084831  0.063809   \n",
       "4 -0.172960  0.744163  0.876301 -0.204251  0.195257 -0.310812  0.091865   \n",
       "\n",
       "          7         8         9  ...       760       761       762       763  \\\n",
       "0 -0.782642  0.815200  0.058693  ...  0.512422 -0.173581  0.121643 -1.160892   \n",
       "1 -1.308217  0.126495 -0.394154  ...  0.337323  0.235471  1.315079 -1.661706   \n",
       "2 -0.195954  0.487164 -0.474504  ...  1.145919 -1.200268  0.073237  0.355085   \n",
       "3  0.829716  0.313569 -0.135334  ...  0.530372 -0.723190 -0.512412  0.532074   \n",
       "4  0.260345 -0.705332  0.397240  ...  0.283769  0.016766  0.104198  0.419002   \n",
       "\n",
       "        764       765       766       767  \\\n",
       "0  0.168453 -0.235679  0.560121 -0.002953   \n",
       "1 -0.706733  0.136573  0.543989  0.514949   \n",
       "2  0.005564  0.110881  1.224088 -0.557225   \n",
       "3  0.150592  0.262125  0.909787 -0.612894   \n",
       "4  0.004514 -1.726378  0.560395  0.177829   \n",
       "\n",
       "                                            Pregunta  Grupo  \n",
       "0   ¿Cuál es el propósito de la protección al menor?     -1  \n",
       "1  ¿Qué medidas puede tomar el médico para ayudar...     -1  \n",
       "2  ¿Cuál es el propósito de la cláusula de concie...     -1  \n",
       "3                ¿Cuál es el derecho a la intimidad?     -1  \n",
       "4                ¿Cuál es la Constitución de España?     -1  \n",
       "\n",
       "[5 rows x 770 columns]"
      ]
     },
     "execution_count": 73,
     "metadata": {},
     "output_type": "execute_result"
    }
   ],
   "source": [
    "df_emb['Pregunta'] = corpus['Pregunta']\n",
    "df_emb['Grupo'] = clusteres.labels_\n",
    "df_emb.head()"
   ]
  },
  {
   "cell_type": "code",
   "execution_count": 74,
   "id": "b3270cdc-cf27-46e5-abe3-6b13b4329872",
   "metadata": {},
   "outputs": [
    {
     "data": {
      "text/plain": [
       "array([ -1,   0,   1,   2,   3,   4,   5,   6,   7,   8,   9,  10,  11,\n",
       "        12,  13,  14,  15,  16,  17,  18,  19,  20,  21,  22,  23,  24,\n",
       "        25,  26,  27,  28,  29,  30,  31,  32,  33,  34,  35,  36,  37,\n",
       "        38,  39,  40,  41,  42,  43,  44,  45,  46,  47,  48,  49,  50,\n",
       "        51,  52,  53,  54,  55,  56,  57,  58,  59,  60,  61,  62,  63,\n",
       "        64,  65,  66,  67,  68,  69,  70,  71,  72,  73,  74,  75,  76,\n",
       "        77,  78,  79,  80,  81,  82,  83,  84,  85,  86,  87,  88,  89,\n",
       "        90,  91,  92,  93,  94,  95,  96,  97,  98,  99, 100, 101, 102,\n",
       "       103, 104, 105, 106, 107, 108, 109, 110, 111, 112, 113, 114, 115,\n",
       "       116, 117, 118, 119, 120, 121, 122, 123, 124, 125, 126, 127, 128,\n",
       "       129, 130, 131, 132, 133, 134, 135, 136, 137, 138, 139, 140, 141,\n",
       "       142, 143, 144, 145, 146, 147, 148, 149, 150, 151, 152, 153, 154,\n",
       "       155, 156, 157, 158, 159, 160, 161, 162, 163, 164, 165, 166, 167,\n",
       "       168, 169, 170, 171, 172, 173, 174, 175, 176, 177, 178, 179, 180,\n",
       "       181, 182, 183, 184, 185, 186, 187, 188, 189, 190, 191, 192, 193,\n",
       "       194, 195, 196, 197, 198, 199, 200, 201, 202, 203, 204, 205, 206,\n",
       "       207])"
      ]
     },
     "execution_count": 74,
     "metadata": {},
     "output_type": "execute_result"
    }
   ],
   "source": [
    "import numpy as np\n",
    "\n",
    "unique, counts = np.unique(clusteres.labels_, return_counts=True)\n",
    "unique"
   ]
  },
  {
   "cell_type": "code",
   "execution_count": 75,
   "id": "ee57f8aa-b725-4b96-a5d6-13053e19e31b",
   "metadata": {},
   "outputs": [
    {
     "data": {
      "text/plain": [
       "-1"
      ]
     },
     "execution_count": 75,
     "metadata": {},
     "output_type": "execute_result"
    }
   ],
   "source": [
    "moda = list(clusteres.labels_)\n",
    "max(set(moda), key=moda.count)"
   ]
  },
  {
   "cell_type": "code",
   "execution_count": 76,
   "id": "e9702d00-8934-40cb-92cb-1306fb11ac79",
   "metadata": {},
   "outputs": [],
   "source": [
    "corpus_principal = limpiar_espurios(corpus, clusteres, -1)"
   ]
  },
  {
   "cell_type": "code",
   "execution_count": 79,
   "id": "f2f18d7e-f6eb-4997-95e0-b3961c8dfcdc",
   "metadata": {},
   "outputs": [],
   "source": [
    "corpus_espurios = limpiar_grupo(corpus, clusteres, -1)"
   ]
  },
  {
   "cell_type": "code",
   "execution_count": 80,
   "id": "6d82e679-b841-4f9d-947b-5161408683e3",
   "metadata": {},
   "outputs": [],
   "source": [
    "corpus_principal.to_csv(\"Corpus Preguntas Limpio.csv\", sep=',', index=False)\n",
    "corpus_espurios.to_csv(\"Corpus Preguntas Espurios.csv\", sep=',', index=False)"
   ]
  },
  {
   "cell_type": "code",
   "execution_count": 81,
   "id": "74e25dee-57a0-4952-bcc6-f960136da72e",
   "metadata": {},
   "outputs": [
    {
     "data": {
      "text/plain": [
       "(18697, 1)"
      ]
     },
     "execution_count": 81,
     "metadata": {},
     "output_type": "execute_result"
    }
   ],
   "source": [
    "corpus_principal.shape"
   ]
  },
  {
   "cell_type": "code",
   "execution_count": 82,
   "id": "cb378740-b141-4a26-89c8-fcb46c9dc50c",
   "metadata": {},
   "outputs": [
    {
     "data": {
      "text/plain": [
       "(4223, 1)"
      ]
     },
     "execution_count": 82,
     "metadata": {},
     "output_type": "execute_result"
    }
   ],
   "source": [
    "corpus_espurios.shape"
   ]
  },
  {
   "cell_type": "code",
   "execution_count": null,
   "id": "0026bc4d-1403-4518-8d9d-e1e11c311263",
   "metadata": {},
   "outputs": [],
   "source": []
  }
 ],
 "metadata": {
  "kernelspec": {
   "display_name": "Python [conda env:root] *",
   "language": "python",
   "name": "conda-root-py"
  },
  "language_info": {
   "codemirror_mode": {
    "name": "ipython",
    "version": 3
   },
   "file_extension": ".py",
   "mimetype": "text/x-python",
   "name": "python",
   "nbconvert_exporter": "python",
   "pygments_lexer": "ipython3",
   "version": "3.9.16"
  }
 },
 "nbformat": 4,
 "nbformat_minor": 5
}
