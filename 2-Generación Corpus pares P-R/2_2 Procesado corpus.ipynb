{
 "cells": [
  {
   "cell_type": "markdown",
   "id": "20bc7301-11fd-47b0-90ad-4c90b4963ada",
   "metadata": {},
   "source": [
    "Primero creamos una serie de funciones axiliares para el procesado final"
   ]
  },
  {
   "cell_type": "code",
   "execution_count": 170,
   "id": "006663a5-c8b9-4443-acbb-93b8e5ba0216",
   "metadata": {},
   "outputs": [],
   "source": [
    "import pandas as pd\n",
    "import re\n",
    "\n",
    "def fusionar_datos(ruta_corpus1 = \"Corpus.csv\", ruta_corpus2 = \"Corpus_mirabel.csv\", ruta_corpusFinal=\"Corpus.csv\"):\n",
    "    corpus1 = pd.read_csv(ruta_corpus1, lineterminator='\\n')\n",
    "    corpus2 = pd.read_csv(ruta_corpus2, lineterminator='\\n')\n",
    "    \n",
    "    corpus = pd.concat([corpus1, corpus2], axis=0, ignore_index=True)\n",
    "    corpus.to_csv(ruta_corpusFinal, sep=',', index=False)\n",
    "    return corpus\n",
    "    \n",
    "def eliminar_nulos(corpus):\n",
    "    corpus = corpus.dropna(how='any',axis=0)\n",
    "    return corpus\n",
    "\n",
    "def subcadena_contenida(s, izq, der):\n",
    "    try:\n",
    "        return s[s.index(izq):s.index(der)+1]\n",
    "    except:\n",
    "        return None\n",
    "\n",
    "def encontrar_pregunta(s):\n",
    "    izq = '¿'\n",
    "    der = '?'\n",
    "    return subcadena_contenida(s, izq, der)\n",
    "\n",
    "def comenzar_mayuscula(s):\n",
    "    if len(s) > 1:\n",
    "        return s[0].upper()+s[1:]\n",
    "    else:\n",
    "        return None\n",
    "\n",
    "def eliminar_fallo_prompt(s):\n",
    "    aux = s.split(':')\n",
    "    if len(aux) > 1:\n",
    "        return aux[1][1:]\n",
    "    else:\n",
    "        return aux[0]\n",
    "\n",
    "def formatear_preguntas(corpus):\n",
    "    for index, row in corpus.iterrows():\n",
    "        print(f\"Fase {index} de {corpus.shape[0]}\", end=\"\\r\")\n",
    "        \n",
    "        pregunta = encontrar_pregunta(row[\"Pregunta\"])\n",
    "        if pregunta is not None:\n",
    "            corpus.loc[index,'Pregunta'] = pregunta\n",
    "        else:\n",
    "            corpus.drop(index, axis=0, inplace=True)\n",
    "\n",
    "def formatear_respuestas(corpus):\n",
    "    for index, row in corpus.iterrows():\n",
    "        print(f\"Fase {index} de {corpus.shape[0]}\", end=\"\\r\")\n",
    "        \n",
    "        respuesta = row[\"Respuesta\"]\n",
    "        if respuesta is not None:\n",
    "            respuesta = comenzar_mayuscula(eliminar_fallo_prompt(respuesta))\n",
    "            corpus.loc[index,'Respuesta'] = respuesta\n",
    "        else:\n",
    "            corpus.drop(index, axis=0, inplace=True)\n",
    "            \n",
    "def reiniciar_indice(corpus):\n",
    "    return corpus.reset_index(drop=True)\n",
    "\n",
    "def eliminar_repetidos(corpus, subset=None):\n",
    "    if subset is not None:\n",
    "        return corpus.drop_duplicates(subset=subset)\n",
    "    else:\n",
    "        return corpus.drop_duplicates()"
   ]
  },
  {
   "cell_type": "markdown",
   "id": "7e6ad093-39b8-4f1c-9736-c7a2d0cd58a8",
   "metadata": {},
   "source": [
    "Comenzamos aplicando los métodos para limpiar los datos para los modelos de clasificación y evaluación"
   ]
  },
  {
   "cell_type": "code",
   "execution_count": 175,
   "id": "f2abe122-e5cc-4b0a-a8d4-abcd36fe8f69",
   "metadata": {},
   "outputs": [],
   "source": [
    "corpus = fusionar_datos()"
   ]
  },
  {
   "cell_type": "code",
   "execution_count": 176,
   "id": "51c86cb8-f1e8-4007-8ff5-aafd583cbde2",
   "metadata": {},
   "outputs": [
    {
     "data": {
      "text/plain": [
       "(54119, 5)"
      ]
     },
     "execution_count": 176,
     "metadata": {},
     "output_type": "execute_result"
    }
   ],
   "source": [
    "corpus.shape"
   ]
  },
  {
   "cell_type": "code",
   "execution_count": 177,
   "id": "a3921b61-4798-43ea-929f-477f54e6c98a",
   "metadata": {},
   "outputs": [],
   "source": [
    "corpus = eliminar_nulos(corpus)"
   ]
  },
  {
   "cell_type": "code",
   "execution_count": 178,
   "id": "8217f8dd-7edd-4c1c-8094-45365fc4e651",
   "metadata": {},
   "outputs": [
    {
     "data": {
      "text/plain": [
       "(43433, 5)"
      ]
     },
     "execution_count": 178,
     "metadata": {},
     "output_type": "execute_result"
    }
   ],
   "source": [
    "corpus.shape"
   ]
  },
  {
   "cell_type": "code",
   "execution_count": 179,
   "id": "e1dc0ba6-0d06-4a48-828f-c561abd8ac9a",
   "metadata": {},
   "outputs": [
    {
     "data": {
      "text/html": [
       "<div>\n",
       "<style scoped>\n",
       "    .dataframe tbody tr th:only-of-type {\n",
       "        vertical-align: middle;\n",
       "    }\n",
       "\n",
       "    .dataframe tbody tr th {\n",
       "        vertical-align: top;\n",
       "    }\n",
       "\n",
       "    .dataframe thead th {\n",
       "        text-align: right;\n",
       "    }\n",
       "</style>\n",
       "<table border=\"1\" class=\"dataframe\">\n",
       "  <thead>\n",
       "    <tr style=\"text-align: right;\">\n",
       "      <th></th>\n",
       "      <th>Contexto</th>\n",
       "      <th>Documento</th>\n",
       "      <th>Pregunta</th>\n",
       "      <th>Respuesta</th>\n",
       "      <th>Modelo</th>\n",
       "    </tr>\n",
       "  </thead>\n",
       "  <tbody>\n",
       "    <tr>\n",
       "      <th>0</th>\n",
       "      <td>Protección Menor en lo referido a actuación co...</td>\n",
       "      <td>000ProtocoloPrevencionSuicidio3 Navarra.pdf</td>\n",
       "      <td>¿Cuál es el propósito de la protección al menor?</td>\n",
       "      <td>El propósito de la protección al menor es pro...</td>\n",
       "      <td>bertin-project/bertin-gpt-j-6B-alpaca</td>\n",
       "    </tr>\n",
       "    <tr>\n",
       "      <th>1</th>\n",
       "      <td>Una cuestión clave es realizar una historia cl...</td>\n",
       "      <td>000ProtocoloPrevencionSuicidio3 Navarra.pdf</td>\n",
       "      <td>¿Qué medidas puede tomar el médico para ayuda...</td>\n",
       "      <td>El médico puede proporcionar orientación y ap...</td>\n",
       "      <td>bertin-project/bertin-gpt-j-6B-alpaca</td>\n",
       "    </tr>\n",
       "    <tr>\n",
       "      <th>2</th>\n",
       "      <td>La Constitución Española20 reconoce y protege ...</td>\n",
       "      <td>000ProtocoloPrevencionSuicidio3 Navarra.pdf</td>\n",
       "      <td>gunta: ¿Cuál es el propósito de la cláusula de...</td>\n",
       "      <td>puesta: La cláusula de conciencia es un derech...</td>\n",
       "      <td>bertin-project/bertin-gpt-j-6B-alpaca</td>\n",
       "    </tr>\n",
       "    <tr>\n",
       "      <th>3</th>\n",
       "      <td>Directamente relacionado con la intimidad está...</td>\n",
       "      <td>000ProtocoloPrevencionSuicidio3 Navarra.pdf</td>\n",
       "      <td>gunta: ¿Cuál es el derecho a la intimidad?</td>\n",
       "      <td>puesta: El derecho a la intimidad es el derech...</td>\n",
       "      <td>bertin-project/bertin-gpt-j-6B-alpaca</td>\n",
       "    </tr>\n",
       "    <tr>\n",
       "      <th>4</th>\n",
       "      <td>Boletín Oficial del Estado, Nº 102, (29 de abr...</td>\n",
       "      <td>000ProtocoloPrevencionSuicidio3 Navarra.pdf</td>\n",
       "      <td>gunta: ¿Cuál es la Constitución de España?</td>\n",
       "      <td>puesta: La Constitución de España es la Ley Su...</td>\n",
       "      <td>bertin-project/bertin-gpt-j-6B-alpaca</td>\n",
       "    </tr>\n",
       "  </tbody>\n",
       "</table>\n",
       "</div>"
      ],
      "text/plain": [
       "                                            Contexto  \\\n",
       "0  Protección Menor en lo referido a actuación co...   \n",
       "1  Una cuestión clave es realizar una historia cl...   \n",
       "2  La Constitución Española20 reconoce y protege ...   \n",
       "3  Directamente relacionado con la intimidad está...   \n",
       "4  Boletín Oficial del Estado, Nº 102, (29 de abr...   \n",
       "\n",
       "                                     Documento  \\\n",
       "0  000ProtocoloPrevencionSuicidio3 Navarra.pdf   \n",
       "1  000ProtocoloPrevencionSuicidio3 Navarra.pdf   \n",
       "2  000ProtocoloPrevencionSuicidio3 Navarra.pdf   \n",
       "3  000ProtocoloPrevencionSuicidio3 Navarra.pdf   \n",
       "4  000ProtocoloPrevencionSuicidio3 Navarra.pdf   \n",
       "\n",
       "                                            Pregunta  \\\n",
       "0   ¿Cuál es el propósito de la protección al menor?   \n",
       "1   ¿Qué medidas puede tomar el médico para ayuda...   \n",
       "2  gunta: ¿Cuál es el propósito de la cláusula de...   \n",
       "3         gunta: ¿Cuál es el derecho a la intimidad?   \n",
       "4         gunta: ¿Cuál es la Constitución de España?   \n",
       "\n",
       "                                           Respuesta  \\\n",
       "0   El propósito de la protección al menor es pro...   \n",
       "1   El médico puede proporcionar orientación y ap...   \n",
       "2  puesta: La cláusula de conciencia es un derech...   \n",
       "3  puesta: El derecho a la intimidad es el derech...   \n",
       "4  puesta: La Constitución de España es la Ley Su...   \n",
       "\n",
       "                                  Modelo  \n",
       "0  bertin-project/bertin-gpt-j-6B-alpaca  \n",
       "1  bertin-project/bertin-gpt-j-6B-alpaca  \n",
       "2  bertin-project/bertin-gpt-j-6B-alpaca  \n",
       "3  bertin-project/bertin-gpt-j-6B-alpaca  \n",
       "4  bertin-project/bertin-gpt-j-6B-alpaca  "
      ]
     },
     "execution_count": 179,
     "metadata": {},
     "output_type": "execute_result"
    }
   ],
   "source": [
    "corpus.head()"
   ]
  },
  {
   "cell_type": "code",
   "execution_count": 180,
   "id": "9498aef4-7d2c-434f-9ff9-37cf6478ecf1",
   "metadata": {},
   "outputs": [
    {
     "name": "stdout",
     "output_type": "stream",
     "text": [
      "Fase 54118 de 32490\r"
     ]
    },
    {
     "data": {
      "text/html": [
       "<div>\n",
       "<style scoped>\n",
       "    .dataframe tbody tr th:only-of-type {\n",
       "        vertical-align: middle;\n",
       "    }\n",
       "\n",
       "    .dataframe tbody tr th {\n",
       "        vertical-align: top;\n",
       "    }\n",
       "\n",
       "    .dataframe thead th {\n",
       "        text-align: right;\n",
       "    }\n",
       "</style>\n",
       "<table border=\"1\" class=\"dataframe\">\n",
       "  <thead>\n",
       "    <tr style=\"text-align: right;\">\n",
       "      <th></th>\n",
       "      <th>Contexto</th>\n",
       "      <th>Documento</th>\n",
       "      <th>Pregunta</th>\n",
       "      <th>Respuesta</th>\n",
       "      <th>Modelo</th>\n",
       "    </tr>\n",
       "  </thead>\n",
       "  <tbody>\n",
       "    <tr>\n",
       "      <th>0</th>\n",
       "      <td>Protección Menor en lo referido a actuación co...</td>\n",
       "      <td>000ProtocoloPrevencionSuicidio3 Navarra.pdf</td>\n",
       "      <td>¿Cuál es el propósito de la protección al menor?</td>\n",
       "      <td>El propósito de la protección al menor es pro...</td>\n",
       "      <td>bertin-project/bertin-gpt-j-6B-alpaca</td>\n",
       "    </tr>\n",
       "    <tr>\n",
       "      <th>1</th>\n",
       "      <td>Una cuestión clave es realizar una historia cl...</td>\n",
       "      <td>000ProtocoloPrevencionSuicidio3 Navarra.pdf</td>\n",
       "      <td>¿Qué medidas puede tomar el médico para ayudar...</td>\n",
       "      <td>El médico puede proporcionar orientación y ap...</td>\n",
       "      <td>bertin-project/bertin-gpt-j-6B-alpaca</td>\n",
       "    </tr>\n",
       "    <tr>\n",
       "      <th>2</th>\n",
       "      <td>La Constitución Española20 reconoce y protege ...</td>\n",
       "      <td>000ProtocoloPrevencionSuicidio3 Navarra.pdf</td>\n",
       "      <td>¿Cuál es el propósito de la cláusula de concie...</td>\n",
       "      <td>puesta: La cláusula de conciencia es un derech...</td>\n",
       "      <td>bertin-project/bertin-gpt-j-6B-alpaca</td>\n",
       "    </tr>\n",
       "    <tr>\n",
       "      <th>3</th>\n",
       "      <td>Directamente relacionado con la intimidad está...</td>\n",
       "      <td>000ProtocoloPrevencionSuicidio3 Navarra.pdf</td>\n",
       "      <td>¿Cuál es el derecho a la intimidad?</td>\n",
       "      <td>puesta: El derecho a la intimidad es el derech...</td>\n",
       "      <td>bertin-project/bertin-gpt-j-6B-alpaca</td>\n",
       "    </tr>\n",
       "    <tr>\n",
       "      <th>4</th>\n",
       "      <td>Boletín Oficial del Estado, Nº 102, (29 de abr...</td>\n",
       "      <td>000ProtocoloPrevencionSuicidio3 Navarra.pdf</td>\n",
       "      <td>¿Cuál es la Constitución de España?</td>\n",
       "      <td>puesta: La Constitución de España es la Ley Su...</td>\n",
       "      <td>bertin-project/bertin-gpt-j-6B-alpaca</td>\n",
       "    </tr>\n",
       "  </tbody>\n",
       "</table>\n",
       "</div>"
      ],
      "text/plain": [
       "                                            Contexto  \\\n",
       "0  Protección Menor en lo referido a actuación co...   \n",
       "1  Una cuestión clave es realizar una historia cl...   \n",
       "2  La Constitución Española20 reconoce y protege ...   \n",
       "3  Directamente relacionado con la intimidad está...   \n",
       "4  Boletín Oficial del Estado, Nº 102, (29 de abr...   \n",
       "\n",
       "                                     Documento  \\\n",
       "0  000ProtocoloPrevencionSuicidio3 Navarra.pdf   \n",
       "1  000ProtocoloPrevencionSuicidio3 Navarra.pdf   \n",
       "2  000ProtocoloPrevencionSuicidio3 Navarra.pdf   \n",
       "3  000ProtocoloPrevencionSuicidio3 Navarra.pdf   \n",
       "4  000ProtocoloPrevencionSuicidio3 Navarra.pdf   \n",
       "\n",
       "                                            Pregunta  \\\n",
       "0   ¿Cuál es el propósito de la protección al menor?   \n",
       "1  ¿Qué medidas puede tomar el médico para ayudar...   \n",
       "2  ¿Cuál es el propósito de la cláusula de concie...   \n",
       "3                ¿Cuál es el derecho a la intimidad?   \n",
       "4                ¿Cuál es la Constitución de España?   \n",
       "\n",
       "                                           Respuesta  \\\n",
       "0   El propósito de la protección al menor es pro...   \n",
       "1   El médico puede proporcionar orientación y ap...   \n",
       "2  puesta: La cláusula de conciencia es un derech...   \n",
       "3  puesta: El derecho a la intimidad es el derech...   \n",
       "4  puesta: La Constitución de España es la Ley Su...   \n",
       "\n",
       "                                  Modelo  \n",
       "0  bertin-project/bertin-gpt-j-6B-alpaca  \n",
       "1  bertin-project/bertin-gpt-j-6B-alpaca  \n",
       "2  bertin-project/bertin-gpt-j-6B-alpaca  \n",
       "3  bertin-project/bertin-gpt-j-6B-alpaca  \n",
       "4  bertin-project/bertin-gpt-j-6B-alpaca  "
      ]
     },
     "execution_count": 180,
     "metadata": {},
     "output_type": "execute_result"
    }
   ],
   "source": [
    "formatear_preguntas(corpus)\n",
    "corpus.head()"
   ]
  },
  {
   "cell_type": "code",
   "execution_count": 181,
   "id": "1655a7c5-ee52-48ed-bcc0-e1e13bd45538",
   "metadata": {},
   "outputs": [
    {
     "name": "stdout",
     "output_type": "stream",
     "text": [
      "Fase 54117 de 32489\r"
     ]
    },
    {
     "data": {
      "text/html": [
       "<div>\n",
       "<style scoped>\n",
       "    .dataframe tbody tr th:only-of-type {\n",
       "        vertical-align: middle;\n",
       "    }\n",
       "\n",
       "    .dataframe tbody tr th {\n",
       "        vertical-align: top;\n",
       "    }\n",
       "\n",
       "    .dataframe thead th {\n",
       "        text-align: right;\n",
       "    }\n",
       "</style>\n",
       "<table border=\"1\" class=\"dataframe\">\n",
       "  <thead>\n",
       "    <tr style=\"text-align: right;\">\n",
       "      <th></th>\n",
       "      <th>Contexto</th>\n",
       "      <th>Documento</th>\n",
       "      <th>Pregunta</th>\n",
       "      <th>Respuesta</th>\n",
       "      <th>Modelo</th>\n",
       "    </tr>\n",
       "  </thead>\n",
       "  <tbody>\n",
       "    <tr>\n",
       "      <th>0</th>\n",
       "      <td>Protección Menor en lo referido a actuación co...</td>\n",
       "      <td>000ProtocoloPrevencionSuicidio3 Navarra.pdf</td>\n",
       "      <td>¿Cuál es el propósito de la protección al menor?</td>\n",
       "      <td>El propósito de la protección al menor es pro...</td>\n",
       "      <td>bertin-project/bertin-gpt-j-6B-alpaca</td>\n",
       "    </tr>\n",
       "    <tr>\n",
       "      <th>1</th>\n",
       "      <td>Una cuestión clave es realizar una historia cl...</td>\n",
       "      <td>000ProtocoloPrevencionSuicidio3 Navarra.pdf</td>\n",
       "      <td>¿Qué medidas puede tomar el médico para ayudar...</td>\n",
       "      <td>El médico puede proporcionar orientación y ap...</td>\n",
       "      <td>bertin-project/bertin-gpt-j-6B-alpaca</td>\n",
       "    </tr>\n",
       "    <tr>\n",
       "      <th>2</th>\n",
       "      <td>La Constitución Española20 reconoce y protege ...</td>\n",
       "      <td>000ProtocoloPrevencionSuicidio3 Navarra.pdf</td>\n",
       "      <td>¿Cuál es el propósito de la cláusula de concie...</td>\n",
       "      <td>La cláusula de conciencia es un derecho fundam...</td>\n",
       "      <td>bertin-project/bertin-gpt-j-6B-alpaca</td>\n",
       "    </tr>\n",
       "    <tr>\n",
       "      <th>3</th>\n",
       "      <td>Directamente relacionado con la intimidad está...</td>\n",
       "      <td>000ProtocoloPrevencionSuicidio3 Navarra.pdf</td>\n",
       "      <td>¿Cuál es el derecho a la intimidad?</td>\n",
       "      <td>El derecho a la intimidad es el derecho de tod...</td>\n",
       "      <td>bertin-project/bertin-gpt-j-6B-alpaca</td>\n",
       "    </tr>\n",
       "    <tr>\n",
       "      <th>4</th>\n",
       "      <td>Boletín Oficial del Estado, Nº 102, (29 de abr...</td>\n",
       "      <td>000ProtocoloPrevencionSuicidio3 Navarra.pdf</td>\n",
       "      <td>¿Cuál es la Constitución de España?</td>\n",
       "      <td>La Constitución de España es la Ley Suprema de...</td>\n",
       "      <td>bertin-project/bertin-gpt-j-6B-alpaca</td>\n",
       "    </tr>\n",
       "  </tbody>\n",
       "</table>\n",
       "</div>"
      ],
      "text/plain": [
       "                                            Contexto  \\\n",
       "0  Protección Menor en lo referido a actuación co...   \n",
       "1  Una cuestión clave es realizar una historia cl...   \n",
       "2  La Constitución Española20 reconoce y protege ...   \n",
       "3  Directamente relacionado con la intimidad está...   \n",
       "4  Boletín Oficial del Estado, Nº 102, (29 de abr...   \n",
       "\n",
       "                                     Documento  \\\n",
       "0  000ProtocoloPrevencionSuicidio3 Navarra.pdf   \n",
       "1  000ProtocoloPrevencionSuicidio3 Navarra.pdf   \n",
       "2  000ProtocoloPrevencionSuicidio3 Navarra.pdf   \n",
       "3  000ProtocoloPrevencionSuicidio3 Navarra.pdf   \n",
       "4  000ProtocoloPrevencionSuicidio3 Navarra.pdf   \n",
       "\n",
       "                                            Pregunta  \\\n",
       "0   ¿Cuál es el propósito de la protección al menor?   \n",
       "1  ¿Qué medidas puede tomar el médico para ayudar...   \n",
       "2  ¿Cuál es el propósito de la cláusula de concie...   \n",
       "3                ¿Cuál es el derecho a la intimidad?   \n",
       "4                ¿Cuál es la Constitución de España?   \n",
       "\n",
       "                                           Respuesta  \\\n",
       "0   El propósito de la protección al menor es pro...   \n",
       "1   El médico puede proporcionar orientación y ap...   \n",
       "2  La cláusula de conciencia es un derecho fundam...   \n",
       "3  El derecho a la intimidad es el derecho de tod...   \n",
       "4  La Constitución de España es la Ley Suprema de...   \n",
       "\n",
       "                                  Modelo  \n",
       "0  bertin-project/bertin-gpt-j-6B-alpaca  \n",
       "1  bertin-project/bertin-gpt-j-6B-alpaca  \n",
       "2  bertin-project/bertin-gpt-j-6B-alpaca  \n",
       "3  bertin-project/bertin-gpt-j-6B-alpaca  \n",
       "4  bertin-project/bertin-gpt-j-6B-alpaca  "
      ]
     },
     "execution_count": 181,
     "metadata": {},
     "output_type": "execute_result"
    }
   ],
   "source": [
    "formatear_respuestas(corpus)\n",
    "corpus.head()"
   ]
  },
  {
   "cell_type": "code",
   "execution_count": 182,
   "id": "ccbc8899-4f80-4395-b217-58cfc75605b8",
   "metadata": {},
   "outputs": [
    {
     "data": {
      "text/plain": [
       "(32489, 5)"
      ]
     },
     "execution_count": 182,
     "metadata": {},
     "output_type": "execute_result"
    }
   ],
   "source": [
    "corpus.shape"
   ]
  },
  {
   "cell_type": "code",
   "execution_count": 183,
   "id": "4e319546-c28c-43e3-b6bb-b7b21c35fd71",
   "metadata": {},
   "outputs": [
    {
     "data": {
      "text/html": [
       "<div>\n",
       "<style scoped>\n",
       "    .dataframe tbody tr th:only-of-type {\n",
       "        vertical-align: middle;\n",
       "    }\n",
       "\n",
       "    .dataframe tbody tr th {\n",
       "        vertical-align: top;\n",
       "    }\n",
       "\n",
       "    .dataframe thead th {\n",
       "        text-align: right;\n",
       "    }\n",
       "</style>\n",
       "<table border=\"1\" class=\"dataframe\">\n",
       "  <thead>\n",
       "    <tr style=\"text-align: right;\">\n",
       "      <th></th>\n",
       "      <th>Contexto</th>\n",
       "      <th>Documento</th>\n",
       "      <th>Pregunta</th>\n",
       "      <th>Respuesta</th>\n",
       "      <th>Modelo</th>\n",
       "    </tr>\n",
       "  </thead>\n",
       "  <tbody>\n",
       "    <tr>\n",
       "      <th>32484</th>\n",
       "      <td>NO SÍ 15 T8 ¿CODIFICÓ SÍ EN T5 O CODIFICÓ NO ...</td>\n",
       "      <td>mini-kid-entrevista-estructurada-ninos-y-adole...</td>\n",
       "      <td>¿Has estado preocupado mucho o has estado nerv...</td>\n",
       "      <td>CODIFICAR SÍ, SI LA ANSIEDAD DEL P</td>\n",
       "      <td>clibrain/Llama-2-7b-ft-instruct-es</td>\n",
       "    </tr>\n",
       "    <tr>\n",
       "      <th>32485</th>\n",
       "      <td>FUNDACIÓN SI ESTÁS PENSANDO EN SUICIDARTE… LEE...</td>\n",
       "      <td>si-piensas-en-suicidarte-lee-esto.pdf</td>\n",
       "      <td>¿Qué puedo hacer para ayudarme a mí mismo?</td>\n",
       "      <td>1. Si estás pensando en suicidarte, por favor...</td>\n",
       "      <td>clibrain/Llama-2-7b-ft-instruct-es</td>\n",
       "    </tr>\n",
       "    <tr>\n",
       "      <th>32486</th>\n",
       "      <td>Basta con hablar de cómo llegaste hasta este p...</td>\n",
       "      <td>si-piensas-en-suicidarte-lee-esto.pdf</td>\n",
       "      <td>¿Cuál es el regalo que te vas a dar?</td>\n",
       "      <td>Un recurso para enfrentar el</td>\n",
       "      <td>clibrain/Llama-2-7b-ft-instruct-es</td>\n",
       "    </tr>\n",
       "    <tr>\n",
       "      <th>32487</th>\n",
       "      <td>A pesar de sus buenas intenciones, quizás aume...</td>\n",
       "      <td>si-piensas-en-suicidarte-lee-esto.pdf</td>\n",
       "      <td>¿Qué puedes hacer para ayudarte a sentirte mejor?</td>\n",
       "      <td>1. Toma un descanso. 2. Haz ejercicio. 3. Due...</td>\n",
       "      <td>clibrain/Llama-2-7b-ft-instruct-es</td>\n",
       "    </tr>\n",
       "    <tr>\n",
       "      <th>32488</th>\n",
       "      <td>Comienza analizando estas palabras: “El suicid...</td>\n",
       "      <td>si-piensas-en-suicidarte-lee-esto.pdf</td>\n",
       "      <td>¿Cuál es el significado de \"El suicidio no es ...</td>\n",
       "      <td>El hecho de que pienses en suicidarte no quie...</td>\n",
       "      <td>clibrain/Llama-2-7b-ft-instruct-es</td>\n",
       "    </tr>\n",
       "  </tbody>\n",
       "</table>\n",
       "</div>"
      ],
      "text/plain": [
       "                                                Contexto  \\\n",
       "32484   NO SÍ 15 T8 ¿CODIFICÓ SÍ EN T5 O CODIFICÓ NO ...   \n",
       "32485  FUNDACIÓN SI ESTÁS PENSANDO EN SUICIDARTE… LEE...   \n",
       "32486  Basta con hablar de cómo llegaste hasta este p...   \n",
       "32487  A pesar de sus buenas intenciones, quizás aume...   \n",
       "32488  Comienza analizando estas palabras: “El suicid...   \n",
       "\n",
       "                                               Documento  \\\n",
       "32484  mini-kid-entrevista-estructurada-ninos-y-adole...   \n",
       "32485              si-piensas-en-suicidarte-lee-esto.pdf   \n",
       "32486              si-piensas-en-suicidarte-lee-esto.pdf   \n",
       "32487              si-piensas-en-suicidarte-lee-esto.pdf   \n",
       "32488              si-piensas-en-suicidarte-lee-esto.pdf   \n",
       "\n",
       "                                                Pregunta  \\\n",
       "32484  ¿Has estado preocupado mucho o has estado nerv...   \n",
       "32485         ¿Qué puedo hacer para ayudarme a mí mismo?   \n",
       "32486               ¿Cuál es el regalo que te vas a dar?   \n",
       "32487  ¿Qué puedes hacer para ayudarte a sentirte mejor?   \n",
       "32488  ¿Cuál es el significado de \"El suicidio no es ...   \n",
       "\n",
       "                                               Respuesta  \\\n",
       "32484                 CODIFICAR SÍ, SI LA ANSIEDAD DEL P   \n",
       "32485   1. Si estás pensando en suicidarte, por favor...   \n",
       "32486                       Un recurso para enfrentar el   \n",
       "32487   1. Toma un descanso. 2. Haz ejercicio. 3. Due...   \n",
       "32488   El hecho de que pienses en suicidarte no quie...   \n",
       "\n",
       "                                   Modelo  \n",
       "32484  clibrain/Llama-2-7b-ft-instruct-es  \n",
       "32485  clibrain/Llama-2-7b-ft-instruct-es  \n",
       "32486  clibrain/Llama-2-7b-ft-instruct-es  \n",
       "32487  clibrain/Llama-2-7b-ft-instruct-es  \n",
       "32488  clibrain/Llama-2-7b-ft-instruct-es  "
      ]
     },
     "execution_count": 183,
     "metadata": {},
     "output_type": "execute_result"
    }
   ],
   "source": [
    "corpus=reiniciar_indice(corpus)\n",
    "corpus.tail()"
   ]
  },
  {
   "cell_type": "code",
   "execution_count": 184,
   "id": "bdd307a2-d077-46b0-a419-e7adac851114",
   "metadata": {},
   "outputs": [
    {
     "data": {
      "text/plain": [
       "(22920, 5)"
      ]
     },
     "execution_count": 184,
     "metadata": {},
     "output_type": "execute_result"
    }
   ],
   "source": [
    "corpus = reiniciar_indice(eliminar_repetidos(corpus))\n",
    "corpus.shape"
   ]
  },
  {
   "cell_type": "code",
   "execution_count": 185,
   "id": "b862f008-c232-4f12-950d-fa2dce5217e1",
   "metadata": {},
   "outputs": [],
   "source": [
    "preguntas = corpus[\"Pregunta\"]"
   ]
  },
  {
   "cell_type": "code",
   "execution_count": 186,
   "id": "7af5a2b6-a825-4844-b8d6-db982da63e33",
   "metadata": {},
   "outputs": [
    {
     "data": {
      "text/plain": [
       "0         ¿Cuál es el propósito de la protección al menor?\n",
       "1        ¿Qué medidas puede tomar el médico para ayudar...\n",
       "2        ¿Cuál es el propósito de la cláusula de concie...\n",
       "3                      ¿Cuál es el derecho a la intimidad?\n",
       "4                      ¿Cuál es la Constitución de España?\n",
       "                               ...                        \n",
       "22915    ¿Has estado preocupado mucho o has estado nerv...\n",
       "22916           ¿Qué puedo hacer para ayudarme a mí mismo?\n",
       "22917                 ¿Cuál es el regalo que te vas a dar?\n",
       "22918    ¿Qué puedes hacer para ayudarte a sentirte mejor?\n",
       "22919    ¿Cuál es el significado de \"El suicidio no es ...\n",
       "Name: Pregunta, Length: 22920, dtype: object"
      ]
     },
     "execution_count": 186,
     "metadata": {},
     "output_type": "execute_result"
    }
   ],
   "source": [
    "preguntas"
   ]
  },
  {
   "cell_type": "code",
   "execution_count": 187,
   "id": "16edabf3-ecea-4297-b3d0-848271992563",
   "metadata": {},
   "outputs": [],
   "source": [
    "preguntas.to_csv('Corpus preguntas.csv',index=False)"
   ]
  },
  {
   "cell_type": "code",
   "execution_count": 188,
   "id": "9a42be23-f7f2-4b43-9ede-7b6074bcc08f",
   "metadata": {},
   "outputs": [],
   "source": [
    "corpus.to_csv(\"Corpus.csv\", index=False)"
   ]
  },
  {
   "cell_type": "code",
   "execution_count": null,
   "id": "02921f71-af91-42ed-9a3b-c462ffd2f48e",
   "metadata": {},
   "outputs": [],
   "source": []
  }
 ],
 "metadata": {
  "kernelspec": {
   "display_name": "Python [conda env:fastai]",
   "language": "python",
   "name": "conda-env-fastai-py"
  },
  "language_info": {
   "codemirror_mode": {
    "name": "ipython",
    "version": 3
   },
   "file_extension": ".py",
   "mimetype": "text/x-python",
   "name": "python",
   "nbconvert_exporter": "python",
   "pygments_lexer": "ipython3",
   "version": "3.11.0"
  }
 },
 "nbformat": 4,
 "nbformat_minor": 5
}
