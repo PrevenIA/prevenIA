{
 "cells": [
  {
   "cell_type": "code",
   "execution_count": 1,
   "id": "a9a6dfda-9033-4eff-a69a-727a1b62b1a8",
   "metadata": {},
   "outputs": [
    {
     "name": "stdout",
     "output_type": "stream",
     "text": [
      "Documento 64 de 64\r"
     ]
    }
   ],
   "source": [
    "%run \"Métodos bd.ipynb\"\n",
    "\n",
    "crearBaseDatos()"
   ]
  }
 ],
 "metadata": {
  "kernelspec": {
   "display_name": "Python [conda env:fastai]",
   "language": "python",
   "name": "conda-env-fastai-py"
  },
  "language_info": {
   "codemirror_mode": {
    "name": "ipython",
    "version": 3
   },
   "file_extension": ".py",
   "mimetype": "text/x-python",
   "name": "python",
   "nbconvert_exporter": "python",
   "pygments_lexer": "ipython3",
   "version": "3.11.0"
  }
 },
 "nbformat": 4,
 "nbformat_minor": 5
}
