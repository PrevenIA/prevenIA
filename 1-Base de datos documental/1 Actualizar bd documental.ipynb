{
 "cells": [
  {
   "cell_type": "code",
   "execution_count": 5,
   "id": "f99efc73-ce52-4850-820e-5f4d8cbb2247",
   "metadata": {},
   "outputs": [
    {
     "name": "stdout",
     "output_type": "stream",
     "text": [
      "Operación completada\n"
     ]
    }
   ],
   "source": [
    "%run \"Métodos bd.ipynb\"\n",
    " \n",
    "actualizarBaseDatos()"
   ]
  },
  {
   "cell_type": "code",
   "execution_count": null,
   "id": "c267a486-0afd-4dff-a807-61260cfe6f46",
   "metadata": {},
   "outputs": [],
   "source": []
  }
 ],
 "metadata": {
  "kernelspec": {
   "display_name": "Python [conda env:fastai]",
   "language": "python",
   "name": "conda-env-fastai-py"
  },
  "language_info": {
   "codemirror_mode": {
    "name": "ipython",
    "version": 3
   },
   "file_extension": ".py",
   "mimetype": "text/x-python",
   "name": "python",
   "nbconvert_exporter": "python",
   "pygments_lexer": "ipython3",
   "version": "3.11.0"
  }
 },
 "nbformat": 4,
 "nbformat_minor": 5
}
